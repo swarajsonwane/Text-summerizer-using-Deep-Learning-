{
 "cells": [
  {
   "cell_type": "code",
   "execution_count": 1,
   "metadata": {
    "collapsed": true
   },
   "outputs": [
    {
     "name": "stderr",
     "output_type": "stream",
     "text": [
      "Using TensorFlow backend.\n"
     ]
    }
   ],
   "source": [
    "#from attention import AttentionLayer\n",
    "from keras.layers.attention import AttentionLayer\n",
    "\n"
   ]
  },
  {
   "cell_type": "code",
   "execution_count": 2,
   "metadata": {},
   "outputs": [],
   "source": [
    "import numpy as np\n",
    "import tensorflow\n",
    "import pandas as pd \n",
    "import re\n",
    "from bs4 import BeautifulSoup     #Beautiful Soup transforms a complex HTML document into a complex tree of Python objects\n",
    "from keras.preprocessing.text import Tokenizer \n",
    "from keras.preprocessing.sequence import pad_sequences\n",
    "from nltk.corpus import stopwords\n",
    "from tensorflow.keras.layers import Input, LSTM, Embedding, Dense, Concatenate, TimeDistributed\n",
    "from tensorflow.keras.models import Model\n",
    "from keras.callbacks import EarlyStopping\n",
    "from tensorflow.keras.models import load_model\n",
    "\n",
    "import warnings\n",
    "pd.set_option(\"display.max_colwidth\", 200)\n",
    "warnings.filterwarnings(\"ignore\")"
   ]
  },
  {
   "cell_type": "code",
   "execution_count": 3,
   "metadata": {},
   "outputs": [],
   "source": [
    "\n",
    "data=pd.read_csv(\"Reviews.csv\",nrows=30000)"
   ]
  },
  {
   "cell_type": "code",
   "execution_count": 4,
   "metadata": {},
   "outputs": [],
   "source": [
    "data.drop_duplicates(subset=['Text'],inplace=True)\n",
    "data.dropna(axis=0,inplace=True)"
   ]
  },
  {
   "cell_type": "code",
   "execution_count": 5,
   "metadata": {},
   "outputs": [
    {
     "name": "stdout",
     "output_type": "stream",
     "text": [
      "<class 'pandas.core.frame.DataFrame'>\nInt64Index: 28676 entries, 0 to 29999\nData columns (total 10 columns):\nId                        28676 non-null int64\nProductId                 28676 non-null object\nUserId                    28676 non-null object\nProfileName               28676 non-null object\nHelpfulnessNumerator      28676 non-null int64\nHelpfulnessDenominator    28676 non-null int64\nScore                     28676 non-null int64\nTime                      28676 non-null int64\nSummary                   28676 non-null object\nText                      28676 non-null object\ndtypes: int64(5), object(5)\nmemory usage: 2.4+ MB\n"
     ]
    }
   ],
   "source": [
    "data.info()"
   ]
  },
  {
   "cell_type": "code",
   "execution_count": 6,
   "metadata": {},
   "outputs": [],
   "source": [
    "contraction_mapping = {\"ain't\": \"is not\", \"aren't\": \"are not\",\"can't\": \"cannot\", \"'cause\": \"because\", \"could've\": \"could have\", \"couldn't\": \"could not\",\n",
    "                           \"didn't\": \"did not\",  \"doesn't\": \"does not\", \"don't\": \"do not\", \"hadn't\": \"had not\", \"hasn't\": \"has not\", \"haven't\": \"have not\",\n",
    "                           \"he'd\": \"he would\",\"he'll\": \"he will\", \"he's\": \"he is\", \"how'd\": \"how did\", \"how'd'y\": \"how do you\", \"how'll\": \"how will\", \"how's\": \"how is\",\n",
    "                           \"I'd\": \"I would\", \"I'd've\": \"I would have\", \"I'll\": \"I will\", \"I'll've\": \"I will have\",\"I'm\": \"I am\", \"I've\": \"I have\", \"i'd\": \"i would\",\n",
    "                           \"i'd've\": \"i would have\", \"i'll\": \"i will\",  \"i'll've\": \"i will have\",\"i'm\": \"i am\", \"i've\": \"i have\", \"isn't\": \"is not\", \"it'd\": \"it would\",\n",
    "                           \"it'd've\": \"it would have\", \"it'll\": \"it will\", \"it'll've\": \"it will have\",\"it's\": \"it is\", \"let's\": \"let us\", \"ma'am\": \"madam\",\n",
    "                           \"mayn't\": \"may not\", \"might've\": \"might have\",\"mightn't\": \"might not\",\"mightn't've\": \"might not have\", \"must've\": \"must have\",\n",
    "                           \"mustn't\": \"must not\", \"mustn't've\": \"must not have\", \"needn't\": \"need not\", \"needn't've\": \"need not have\",\"o'clock\": \"of the clock\",\n",
    "                           \"oughtn't\": \"ought not\", \"oughtn't've\": \"ought not have\", \"shan't\": \"shall not\", \"sha'n't\": \"shall not\", \"shan't've\": \"shall not have\",\n",
    "                           \"she'd\": \"she would\", \"she'd've\": \"she would have\", \"she'll\": \"she will\", \"she'll've\": \"she will have\", \"she's\": \"she is\",\n",
    "                           \"should've\": \"should have\", \"shouldn't\": \"should not\", \"shouldn't've\": \"should not have\", \"so've\": \"so have\",\"so's\": \"so as\",\n",
    "                           \"this's\": \"this is\",\"that'd\": \"that would\", \"that'd've\": \"that would have\", \"that's\": \"that is\", \"there'd\": \"there would\",\n",
    "                           \"there'd've\": \"there would have\", \"there's\": \"there is\", \"here's\": \"here is\",\"they'd\": \"they would\", \"they'd've\": \"they would have\",\n",
    "                           \"they'll\": \"they will\", \"they'll've\": \"they will have\", \"they're\": \"they are\", \"they've\": \"they have\", \"to've\": \"to have\",\n",
    "                           \"wasn't\": \"was not\", \"we'd\": \"we would\", \"we'd've\": \"we would have\", \"we'll\": \"we will\", \"we'll've\": \"we will have\", \"we're\": \"we are\",\n",
    "                           \"we've\": \"we have\", \"weren't\": \"were not\", \"what'll\": \"what will\", \"what'll've\": \"what will have\", \"what're\": \"what are\",\n",
    "                           \"what's\": \"what is\", \"what've\": \"what have\", \"when's\": \"when is\", \"when've\": \"when have\", \"where'd\": \"where did\", \"where's\": \"where is\",\n",
    "                           \"where've\": \"where have\", \"who'll\": \"who will\", \"who'll've\": \"who will have\", \"who's\": \"who is\", \"who've\": \"who have\",\n",
    "                           \"why's\": \"why is\", \"why've\": \"why have\", \"will've\": \"will have\", \"won't\": \"will not\", \"won't've\": \"will not have\",\n",
    "                           \"would've\": \"would have\", \"wouldn't\": \"would not\", \"wouldn't've\": \"would not have\", \"y'all\": \"you all\",\n",
    "                           \"y'all'd\": \"you all would\",\"y'all'd've\": \"you all would have\",\"y'all're\": \"you all are\",\"y'all've\": \"you all have\",\n",
    "                           \"you'd\": \"you would\", \"you'd've\": \"you would have\", \"you'll\": \"you will\", \"you'll've\": \"you will have\",\"you're\": \"you are\", \"you've\": \"you have\"}"
   ]
  },
  {
   "cell_type": "code",
   "execution_count": 7,
   "metadata": {},
   "outputs": [],
   "source": [
    "\n",
    "stop_words = set(stopwords.words('english')) \n",
    "\n",
    "def text_cleaner(text,num):\n",
    "    newstring=text.lower()\n",
    "    newstring=BeautifulSoup(newstring,\"lxml\").text\n",
    "    newstring=re.sub(r'\\([^)]*\\)','',newstring)\n",
    "    newstring=re.sub(r'\"','',newstring)\n",
    "    newstring=' '.join([contraction_mapping[t] if t in contraction_mapping else t for t in newstring.split(\" \")])\n",
    "    newstring=re.sub(r\"'s\\b\",'',newstring)\n",
    "    newstring = re.sub(\"[^a-zA-Z]\", \" \", newstring) \n",
    "    newstring = re.sub('[m]{2,}', 'mm', newstring)\n",
    "    \n",
    "    if(num==0):\n",
    "        tokens = [w for w in newstring.split() if not w in stop_words]\n",
    "    else:\n",
    "        tokens=newstring.split()\n",
    "    long_words=[]\n",
    "    for i in tokens:\n",
    "        if len(i)>1:                                                 #removing short word\n",
    "            long_words.append(i)   \n",
    "    return (\" \".join(long_words)).strip()\n",
    "    \n"
   ]
  },
  {
   "cell_type": "code",
   "execution_count": 8,
   "metadata": {},
   "outputs": [],
   "source": [
    "#call the function\n",
    "cleaned_text = []\n",
    "for t in data['Text']:\n",
    "    cleaned_text.append(text_cleaner(t,0))"
   ]
  },
  {
   "cell_type": "code",
   "execution_count": 9,
   "metadata": {},
   "outputs": [
    {
     "name": "stdout",
     "output_type": "stream",
     "text": [
      "['bought several vitality canned dog food products found good quality product looks like stew processed meat smells better labrador finicky appreciates product better', 'product arrived labeled jumbo salted peanuts peanuts actually small sized unsalted sure error vendor intended represent product jumbo', 'confection around centuries light pillowy citrus gelatin nuts case filberts cut tiny squares liberally coated powdered sugar tiny mouthful heaven chewy flavorful highly recommend yummy treat familiar story lewis lion witch wardrobe treat seduces edmund selling brother sisters witch', 'looking secret ingredient robitussin believe found got addition root beer extract ordered made cherry soda flavor medicinal', 'great taffy great price wide assortment yummy taffy delivery quick taffy lover deal']\n"
     ]
    }
   ],
   "source": [
    "print(cleaned_text[:5])"
   ]
  },
  {
   "cell_type": "code",
   "execution_count": 10,
   "metadata": {},
   "outputs": [],
   "source": [
    "cleaned_summary = []\n",
    "for t in data['Summary']:\n",
    "    cleaned_summary.append(text_cleaner(t,1))"
   ]
  },
  {
   "cell_type": "code",
   "execution_count": 11,
   "metadata": {},
   "outputs": [
    {
     "data": {
      "text/plain": [
       "['good quality dog food',\n 'not as advertised',\n 'delight says it all',\n 'cough medicine',\n 'great taffy',\n 'nice taffy',\n 'great just as good as the expensive brands',\n 'wonderful tasty taffy',\n 'yay barley',\n 'healthy dog food']"
      ]
     },
     "execution_count": 11,
     "metadata": {},
     "output_type": "execute_result"
    }
   ],
   "source": [
    "cleaned_summary[:10]"
   ]
  },
  {
   "cell_type": "code",
   "execution_count": 12,
   "metadata": {},
   "outputs": [],
   "source": [
    "data['cleaned_text']=cleaned_text\n",
    "data['cleaned_summary']=cleaned_summary"
   ]
  },
  {
   "cell_type": "code",
   "execution_count": 13,
   "metadata": {},
   "outputs": [],
   "source": [
    "data.replace('', np.nan, inplace=True)\n",
    "data.dropna(axis=0,inplace=True)\n",
    "%matplotlib inline "
   ]
  },
  {
   "cell_type": "code",
   "execution_count": 14,
   "metadata": {},
   "outputs": [
    {
     "data": {
      "image/png": "[encoded data removed]",
      "text/plain": [
       "<Figure size 432x288 with 2 Axes>"
      ]
     },
     "metadata": {},
     "output_type": "display_data"
    }
   ],
   "source": [
    "import matplotlib.pyplot as plt\n",
    "\n",
    "text_word_count = []\n",
    "summary_word_count = []\n",
    "\n",
    "# populate the lists with sentence lengths\n",
    "for i in data['cleaned_text']:\n",
    "      text_word_count.append(len(i.split()))\n",
    "\n",
    "for i in data['cleaned_summary']:\n",
    "      summary_word_count.append(len(i.split()))\n",
    "\n",
    "length_df = pd.DataFrame({'text':text_word_count, 'summary':summary_word_count})\n",
    "\n",
    "length_df.hist(bins = 30)\n",
    "plt.show()"
   ]
  },
  {
   "cell_type": "code",
   "execution_count": 15,
   "metadata": {},
   "outputs": [
    {
     "name": "stdout",
     "output_type": "stream",
     "text": [
      "0.943771596104848\n"
     ]
    }
   ],
   "source": [
    "cnt=0\n",
    "for i in data['cleaned_summary']:\n",
    "    if(len(i.split())<=8):\n",
    "        cnt=cnt+1\n",
    "print(cnt/len(data['cleaned_summary']))"
   ]
  },
  {
   "cell_type": "code",
   "execution_count": 16,
   "metadata": {},
   "outputs": [],
   "source": [
    "max_text_len=30\n",
    "max_summary_len=8"
   ]
  },
  {
   "cell_type": "code",
   "execution_count": 17,
   "metadata": {},
   "outputs": [],
   "source": [
    "cleaned_text =np.array(data['cleaned_text'])\n",
    "cleaned_summary=np.array(data['cleaned_summary'])\n",
    "\n",
    "short_text=[]\n",
    "short_summary=[]\n",
    "\n",
    "for i in range(len(cleaned_text)):\n",
    "    if(len(cleaned_summary[i].split())<=max_summary_len and len(cleaned_text[i].split())<=max_text_len):\n",
    "        short_text.append(cleaned_text[i])\n",
    "        short_summary.append(cleaned_summary[i])\n",
    "        \n",
    "df=pd.DataFrame({'text':short_text,'summary':short_summary})"
   ]
  },
  {
   "cell_type": "code",
   "execution_count": 18,
   "metadata": {},
   "outputs": [],
   "source": [
    "#Now we will add some special token at atsrt and at the end of summary\n",
    "\n",
    "df['summary'] = df['summary'].apply(lambda x : 'sostok '+ x + ' eostok')"
   ]
  },
  {
   "cell_type": "code",
   "execution_count": 19,
   "metadata": {},
   "outputs": [],
   "source": [
    "#spliting into training and testing data\n",
    "\n",
    "from sklearn.model_selection import train_test_split\n",
    "x_tr,x_val,y_tr,y_val=train_test_split(np.array(df['text']),np.array(df['summary']),test_size=0.1,random_state=0,shuffle=True)"
   ]
  },
  {
   "cell_type": "code",
   "execution_count": 20,
   "metadata": {},
   "outputs": [],
   "source": [
    "from keras.preprocessing.text import Tokenizer \n",
    "from keras.preprocessing.sequence import pad_sequences\n",
    "\n",
    "#prepare a tokenizer for reviews on training data\n",
    "x_tokenizer = Tokenizer() \n",
    "x_tokenizer.fit_on_texts(list(x_tr))"
   ]
  },
  {
   "cell_type": "code",
   "execution_count": 21,
   "metadata": {},
   "outputs": [
    {
     "name": "stdout",
     "output_type": "stream",
     "text": [
      "% of rare words in vocabulary: 66.31929675315469\nTotal Coverage of rare words: 5.210999853155373\n"
     ]
    }
   ],
   "source": [
    "thresh=4     #words below this count considered as rare words\n",
    "\n",
    "cnt=0\n",
    "tot_cnt=0\n",
    "freq=0\n",
    "tot_freq=0\n",
    "\n",
    "for key,value in x_tokenizer.word_counts.items():\n",
    "    tot_cnt=tot_cnt+1\n",
    "    tot_freq=tot_freq+value\n",
    "    if(value<thresh):\n",
    "        cnt=cnt+1\n",
    "        freq=freq+value\n",
    "    \n",
    "print(\"% of rare words in vocabulary:\",(cnt/tot_cnt)*100)\n",
    "print(\"Total Coverage of rare words:\",(freq/tot_freq)*100)"
   ]
  },
  {
   "cell_type": "code",
   "execution_count": 22,
   "metadata": {},
   "outputs": [],
   "source": [
    "#prepare a tokenizer for reviews on training data\n",
    "x_tokenizer = Tokenizer(num_words=tot_cnt-cnt) \n",
    "x_tokenizer.fit_on_texts(list(x_tr))\n",
    "\n",
    "#convert text sequences into integer sequences\n",
    "x_tr_seq =x_tokenizer.texts_to_sequences(x_tr) \n",
    "x_val_seq = x_tokenizer.texts_to_sequences(x_val)\n",
    "\n",
    "#padding zero upto maximum length\n",
    "x_tr = pad_sequences(x_tr_seq,  maxlen=max_text_len, padding='post')\n",
    "x_val = pad_sequences(x_val_seq, maxlen=max_text_len, padding='post')\n",
    "\n",
    "#size of vocabulary ( +1 for padding token)\n",
    "x_voc = x_tokenizer.num_words + 1"
   ]
  },
  {
   "cell_type": "code",
   "execution_count": 23,
   "metadata": {},
   "outputs": [
    {
     "data": {
      "text/plain": [
       "4752"
      ]
     },
     "execution_count": 23,
     "metadata": {},
     "output_type": "execute_result"
    }
   ],
   "source": [
    "x_voc"
   ]
  },
  {
   "cell_type": "code",
   "execution_count": 24,
   "metadata": {},
   "outputs": [],
   "source": [
    "y_tokenizer = Tokenizer()   \n",
    "y_tokenizer.fit_on_texts(list(y_tr))"
   ]
  },
  {
   "cell_type": "code",
   "execution_count": 25,
   "metadata": {},
   "outputs": [
    {
     "name": "stdout",
     "output_type": "stream",
     "text": [
      "% of rare words in vocabulary: 80.84362139917695\nTotal Coverage of rare words: 8.987963039126978\n"
     ]
    }
   ],
   "source": [
    "thresh=6\n",
    "\n",
    "cnt=0\n",
    "tot_cnt=0\n",
    "freq=0\n",
    "tot_freq=0\n",
    "\n",
    "for key,value in y_tokenizer.word_counts.items():\n",
    "    tot_cnt=tot_cnt+1\n",
    "    tot_freq=tot_freq+value\n",
    "    if(value<thresh):\n",
    "        cnt=cnt+1\n",
    "        freq=freq+value\n",
    "    \n",
    "print(\"% of rare words in vocabulary:\",(cnt/tot_cnt)*100)\n",
    "print(\"Total Coverage of rare words:\",(freq/tot_freq)*100)"
   ]
  },
  {
   "cell_type": "code",
   "execution_count": 26,
   "metadata": {},
   "outputs": [],
   "source": [
    "#prepare a tokenizer for reviews on training data\n",
    "y_tokenizer = Tokenizer(num_words=tot_cnt-cnt) \n",
    "y_tokenizer.fit_on_texts(list(y_tr))\n",
    "\n",
    "#convert text sequences into integer sequences\n",
    "y_tr_seq    =   y_tokenizer.texts_to_sequences(y_tr) \n",
    "y_val_seq   =   y_tokenizer.texts_to_sequences(y_val) \n",
    "\n",
    "#padding zero upto maximum length\n",
    "y_tr    =   pad_sequences(y_tr_seq, maxlen=max_summary_len, padding='post')\n",
    "y_val   =   pad_sequences(y_val_seq, maxlen=max_summary_len, padding='post')\n",
    "\n",
    "#size of vocabulary\n",
    "y_voc  =   y_tokenizer.num_words +1"
   ]
  },
  {
   "cell_type": "code",
   "execution_count": 27,
   "metadata": {},
   "outputs": [
    {
     "data": {
      "text/plain": [
       "(13970, 13970)"
      ]
     },
     "execution_count": 27,
     "metadata": {},
     "output_type": "execute_result"
    }
   ],
   "source": [
    "\n",
    "y_tokenizer.word_counts['sostok'],len(y_tr)\n"
   ]
  },
  {
   "cell_type": "code",
   "execution_count": 28,
   "metadata": {},
   "outputs": [
    {
     "data": {
      "text/plain": [
       "932"
      ]
     },
     "execution_count": 28,
     "metadata": {},
     "output_type": "execute_result"
    }
   ],
   "source": [
    "\n",
    "y_voc"
   ]
  },
  {
   "cell_type": "code",
   "execution_count": 29,
   "metadata": {},
   "outputs": [],
   "source": [
    "ind=[]\n",
    "for i in range(len(y_tr)):\n",
    "    cnt=0\n",
    "    for j in y_tr[i]:\n",
    "        if j!=0:\n",
    "            cnt=cnt+1\n",
    "    if(cnt==2):\n",
    "        ind.append(i)\n",
    "\n",
    "y_tr=np.delete(y_tr,ind, axis=0)\n",
    "x_tr=np.delete(x_tr,ind, axis=0)"
   ]
  },
  {
   "cell_type": "code",
   "execution_count": 30,
   "metadata": {},
   "outputs": [],
   "source": [
    "\n",
    "ind=[]\n",
    "for i in range(len(y_val)):\n",
    "    cnt=0\n",
    "    for j in y_val[i]:\n",
    "        if j!=0:\n",
    "            cnt=cnt+1\n",
    "    if(cnt==2):\n",
    "        ind.append(i)\n",
    "\n",
    "y_val=np.delete(y_val,ind, axis=0)\n",
    "x_val=np.delete(x_val,ind, axis=0)\n"
   ]
  },
  {
   "cell_type": "code",
   "execution_count": 33,
   "metadata": {},
   "outputs": [],
   "source": [
    "#model = load_model('model.h5', custom_objects={'AttentionLayer': AttentionLayer})\n",
    "# load the model\n",
    "from  tensorflow.keras.models import model_from_json\n",
    "j_file = open('model.json', 'r')\n",
    "model = j_file.read()\n",
    "j_file.close()\n",
    "model = model_from_json(model,custom_objects={'AttentionLayer': AttentionLayer})\n",
    "\n",
    "\n",
    "# load the weights\n",
    "model.load_weights(\"model_2.h5\")"
   ]
  },
  {
   "cell_type": "code",
   "execution_count": 36,
   "metadata": {
    "collapsed": false
   },
   "outputs": [
    {
     "ename": "TypeError",
     "evalue": "Tensor objects are only iterable when eager execution is enabled. To iterate over this tensor use tf.map_fn.",
     "traceback": [
      "\u001b[0;31m---------------------------------------------------------------------------\u001b[0m",
      "\u001b[0;31mTypeError\u001b[0m                                 Traceback (most recent call last)",
      "\u001b[0;32m<ipython-input-36-76a0611d0078>\u001b[0m in \u001b[0;36m<module>\u001b[0;34m()\u001b[0m\n\u001b[1;32m     61\u001b[0m \u001b[0mdecoder_lstm\u001b[0m \u001b[0;34m=\u001b[0m \u001b[0mmodel\u001b[0m\u001b[0;34m.\u001b[0m\u001b[0mlayers\u001b[0m\u001b[0;34m[\u001b[0m\u001b[0;36m3\u001b[0m\u001b[0;34m]\u001b[0m\u001b[0;34m\u001b[0m\u001b[0m\n\u001b[1;32m     62\u001b[0m decoder_outputs, state_h_dec, state_c_dec = decoder_lstm(\n\u001b[0;32m---> 63\u001b[0;31m     decoder_inputs, initial_state=decoder_states_inputs)\n\u001b[0m\u001b[1;32m     64\u001b[0m \u001b[0mdecoder_states\u001b[0m \u001b[0;34m=\u001b[0m \u001b[0;34m[\u001b[0m\u001b[0mstate_h_dec\u001b[0m\u001b[0;34m,\u001b[0m \u001b[0mstate_c_dec\u001b[0m\u001b[0;34m]\u001b[0m\u001b[0;34m\u001b[0m\u001b[0m\n\u001b[1;32m     65\u001b[0m \u001b[0mdecoder_dense\u001b[0m \u001b[0;34m=\u001b[0m \u001b[0mmodel\u001b[0m\u001b[0;34m.\u001b[0m\u001b[0mlayers\u001b[0m\u001b[0;34m[\u001b[0m\u001b[0;36m4\u001b[0m\u001b[0;34m]\u001b[0m\u001b[0;34m\u001b[0m\u001b[0m\n",
      "\u001b[0;32mC:\\Users\\HP\\AppData\\Roaming\\Python\\Python37\\site-packages\\tensorflow\\python\\framework\\ops.py\u001b[0m in \u001b[0;36m__iter__\u001b[0;34m(self)\u001b[0m\n\u001b[1;32m    475\u001b[0m     \u001b[0;32mif\u001b[0m \u001b[0;32mnot\u001b[0m \u001b[0mcontext\u001b[0m\u001b[0;34m.\u001b[0m\u001b[0mexecuting_eagerly\u001b[0m\u001b[0;34m(\u001b[0m\u001b[0;34m)\u001b[0m\u001b[0;34m:\u001b[0m\u001b[0;34m\u001b[0m\u001b[0m\n\u001b[1;32m    476\u001b[0m       raise TypeError(\n\u001b[0;32m--> 477\u001b[0;31m           \u001b[0;34m\"Tensor objects are only iterable when eager execution is \"\u001b[0m\u001b[0;34m\u001b[0m\u001b[0m\n\u001b[0m\u001b[1;32m    478\u001b[0m           \"enabled. To iterate over this tensor use tf.map_fn.\")\n\u001b[1;32m    479\u001b[0m     \u001b[0mshape\u001b[0m \u001b[0;34m=\u001b[0m \u001b[0mself\u001b[0m\u001b[0;34m.\u001b[0m\u001b[0m_shape_tuple\u001b[0m\u001b[0;34m(\u001b[0m\u001b[0;34m)\u001b[0m\u001b[0;34m\u001b[0m\u001b[0m\n",
      "\u001b[0;31mTypeError\u001b[0m: Tensor objects are only iterable when eager execution is enabled. To iterate over this tensor use tf.map_fn."
     ],
     "output_type": "error"
    }
   ],
   "source": [
    "from keras import backend as K \n",
    "K.clear_session()\n",
    "# \n",
    "# latent_dim = 300\n",
    "# embedding_dim=100\n",
    "# \n",
    "# # Encoder\n",
    "# encoder_inputs = model.input[0]\n",
    "# \n",
    "# #embedding layer\n",
    "# enc_emb =  Embedding(x_voc, embedding_dim,trainable=True)(encoder_inputs)\n",
    "# \n",
    "# #encoder lstm 1\n",
    "# encoder_lstm1 = LSTM(latent_dim,return_sequences=True,return_state=True,dropout=0.4,recurrent_dropout=0.4)\n",
    "# encoder_output1, state_h1, state_c1 = encoder_lstm1(enc_emb)\n",
    "# \n",
    "# #encoder lstm 2\n",
    "# encoder_lstm2 = LSTM(latent_dim,return_sequences=True,return_state=True,dropout=0.4,recurrent_dropout=0.4)\n",
    "# encoder_output2, state_h2, state_c2 = encoder_lstm2(encoder_output1)\n",
    "# \n",
    "# #encoder lstm 3\n",
    "# encoder_lstm3=LSTM(latent_dim, return_state=True, return_sequences=True,dropout=0.4,recurrent_dropout=0.4)\n",
    "# encoder_outputs, state_h, state_c= encoder_lstm3(encoder_output2)\n",
    "# \n",
    "# # Set up the decoder, using `encoder_states` as initial state.\n",
    "# decoder_inputs = model.input[1]\n",
    "# \n",
    "# #embedding layer\n",
    "# dec_emb_layer = Embedding(y_voc, embedding_dim,trainable=True)\n",
    "# dec_emb = dec_emb_layer(decoder_inputs)\n",
    "# \n",
    "# decoder_lstm = LSTM(latent_dim, return_sequences=True, return_state=True,dropout=0.4,recurrent_dropout=0.2)\n",
    "# decoder_outputs,decoder_fwd_state, decoder_back_state = decoder_lstm(dec_emb,initial_state=[state_h, state_c])\n",
    "# \n",
    "# # Attention layer\n",
    "# attn_layer = AttentionLayer(name='attention_layer')\n",
    "# attn_out, attn_states = attn_layer([encoder_outputs, decoder_outputs])\n",
    "# \n",
    "# # Concat attention input and decoder LSTM \n",
    "# decoder_concat_input = Concatenate(axis=-1, name='concat_layer')([decoder_outputs, attn_out])\n",
    "# \n",
    "# #dense layer\n",
    "# decoder_dense =  TimeDistributed(Dense(y_voc, activation='softmax'))\n",
    "# decoder_outputs = decoder_dense(decoder_concat_input)\n",
    "# \n",
    "# # # Define the model \n",
    "# # model = Model([encoder_inputs, decoder_inputs], decoder_outputs)\n",
    "# # \n",
    "# # model.summary()\n",
    "\n",
    "\n",
    "encoder_inputs = model.input[0]   # input_1\n",
    "encoder_outputs, state_h_enc, state_c_enc = model.layers[2].output   # lstm_1\n",
    "encoder_states = [state_h_enc, state_c_enc]\n",
    "encoder_model = Model(encoder_inputs, encoder_states)\n",
    "\n",
    "decoder_inputs = model.input[1]   # input_2\n",
    "decoder_state_input_h = Input(shape=(latent_dim,), name='input_3')\n",
    "decoder_state_input_c = Input(shape=(latent_dim,), name='input_4')\n",
    "decoder_states_inputs = [decoder_state_input_h, decoder_state_input_c]\n",
    "decoder_lstm = model.layers[3]\n",
    "decoder_outputs, state_h_dec, state_c_dec = decoder_lstm(\n",
    "    decoder_inputs, initial_state=decoder_states_inputs)\n",
    "decoder_states = [state_h_dec, state_c_dec]\n",
    "decoder_dense = model.layers[4]\n",
    "decoder_outputs = decoder_dense(decoder_outputs)\n",
    "decoder_model = Model(\n",
    "    [decoder_inputs] + decoder_states_inputs,\n",
    "    [decoder_outputs] + decoder_states)"
   ]
  },
  {
   "cell_type": "code",
   "execution_count": 33,
   "metadata": {
    "collapsed": false
   },
   "outputs": [],
   "source": [
    "\n",
    "model.compile(optimizer='rmsprop', loss='sparse_categorical_crossentropy')\n",
    "es = EarlyStopping(monitor='val_loss', mode='min', verbose=1,patience=2)"
   ]
  },
  {
   "cell_type": "code",
   "execution_count": 34,
   "metadata": {
    "collapsed": false
   },
   "outputs": [
    {
     "name": "stderr",
     "output_type": "stream",
     "text": [
      "W1205 17:43:14.562215  9264 deprecation.py:506] From C:\\Users\\HP\\AppData\\Roaming\\Python\\Python37\\site-packages\\tensorflow\\python\\ops\\init_ops.py:97: calling GlorotUniform.__init__ (from tensorflow.python.ops.init_ops) with dtype is deprecated and will be removed in a future version.\nInstructions for updating:\nCall initializer instance with the dtype argument instead of passing it to the constructor\n"
     ]
    },
    {
     "name": "stderr",
     "output_type": "stream",
     "text": [
      "W1205 17:43:14.562215  9264 deprecation.py:506] From C:\\Users\\HP\\AppData\\Roaming\\Python\\Python37\\site-packages\\tensorflow\\python\\ops\\init_ops.py:97: calling Orthogonal.__init__ (from tensorflow.python.ops.init_ops) with dtype is deprecated and will be removed in a future version.\nInstructions for updating:\nCall initializer instance with the dtype argument instead of passing it to the constructor\n"
     ]
    },
    {
     "name": "stderr",
     "output_type": "stream",
     "text": [
      "W1205 17:43:14.562215  9264 deprecation.py:506] From C:\\Users\\HP\\AppData\\Roaming\\Python\\Python37\\site-packages\\tensorflow\\python\\ops\\init_ops.py:97: calling Zeros.__init__ (from tensorflow.python.ops.init_ops) with dtype is deprecated and will be removed in a future version.\nInstructions for updating:\nCall initializer instance with the dtype argument instead of passing it to the constructor\n"
     ]
    },
    {
     "name": "stderr",
     "output_type": "stream",
     "text": [
      "W1205 17:43:46.536900  9264 deprecation.py:323] From C:\\Users\\HP\\AppData\\Roaming\\Python\\Python37\\site-packages\\tensorflow\\python\\ops\\math_grad.py:1250: add_dispatch_support.<locals>.wrapper (from tensorflow.python.ops.array_ops) is deprecated and will be removed in a future version.\nInstructions for updating:\nUse tf.where in 2.0, which has the same broadcast rule as np.where\n"
     ]
    }
   ],
   "source": [
    "\n",
    "\n"
   ]
  },
  {
   "cell_type": "code",
   "execution_count": 35,
   "metadata": {
    "collapsed": false
   },
   "outputs": [],
   "source": [
    "\n"
   ]
  },
  {
   "cell_type": "code",
   "execution_count": 41,
   "metadata": {},
   "outputs": [],
   "source": [
    ""
   ]
  },
  {
   "cell_type": "code",
   "execution_count": 36,
   "metadata": {
    "collapsed": true
   },
   "outputs": [],
   "source": [
    "\n",
    "reverse_target_word_index=y_tokenizer.index_word\n",
    "reverse_source_word_index=x_tokenizer.index_word\n",
    "target_word_index=y_tokenizer.word_index\n"
   ]
  },
  {
   "cell_type": "code",
   "execution_count": 37,
   "metadata": {},
   "outputs": [],
   "source": [
    "encoder_model = Model(inputs=encoder_inputs,outputs=[encoder_outputs, state_h, state_c])\n",
    "\n",
    "# Decoder setup\n",
    "# Below tensors will hold the states of the previous time step\n",
    "decoder_state_input_h = Input(shape=(latent_dim,))\n",
    "decoder_state_input_c = Input(shape=(latent_dim,))\n",
    "decoder_hidden_state_input = Input(shape=(max_text_len,latent_dim))\n",
    "\n",
    "# Get the embeddings of the decoder sequence\n",
    "dec_emb2= dec_emb_layer(decoder_inputs) \n",
    "# To predict the next word in the sequence, set the initial states to the states from the previous time step\n",
    "decoder_outputs2, state_h2, state_c2 = decoder_lstm(dec_emb2, initial_state=[decoder_state_input_h, decoder_state_input_c])\n",
    "\n",
    "#attention inference\n",
    "attn_out_inf, attn_states_inf = attn_layer([decoder_hidden_state_input, decoder_outputs2])\n",
    "decoder_inf_concat = Concatenate(axis=-1, name='concat')([decoder_outputs2, attn_out_inf])\n",
    "\n",
    "# A dense softmax layer to generate prob dist. over the target vocabulary\n",
    "decoder_outputs2 = decoder_dense(decoder_inf_concat) \n",
    "\n",
    "# Final decoder model\n",
    "decoder_model = Model(\n",
    "    [decoder_inputs] + [decoder_hidden_state_input,decoder_state_input_h, decoder_state_input_c],\n",
    "    [decoder_outputs2] + [state_h2, state_c2])\n",
    "\n"
   ]
  },
  {
   "cell_type": "code",
   "execution_count": 38,
   "metadata": {},
   "outputs": [],
   "source": [
    "def decode_sequence(input_seq):\n",
    "    # Encode the input as state vectors.\n",
    "    e_out, e_h, e_c = encoder_model.predict(input_seq)\n",
    "        # Generate empty target sequence of length 1.\n",
    "    target_seq = np.zeros((1,1))\n",
    "    \n",
    "    # Populate the first word of target sequence with the start word.\n",
    "    target_seq[0, 0] = target_word_index['sostok']\n",
    "\n",
    "    stop_condition = False\n",
    "    decoded_sentence = ''\n",
    "    while not stop_condition:\n",
    "      \n",
    "        output_tokens, h, c = decoder_model.predict([target_seq] + [e_out, e_h, e_c])\n",
    "\n",
    "        # Sample a token\n",
    "        sampled_token_index = np.argmax(output_tokens[0, -1, :])\n",
    "        sampled_token = reverse_target_word_index[sampled_token_index]\n",
    "        \n",
    "        if(sampled_token!='eostok'):\n",
    "            decoded_sentence += ' '+sampled_token\n",
    "\n",
    "        # Exit condition: either hit max length or find stop word.\n",
    "        if (sampled_token == 'eostok'  or len(decoded_sentence.split()) >= (max_summary_len-1)):\n",
    "            stop_condition = True\n",
    "\n",
    "        # Update the target sequence (of length 1).\n",
    "        target_seq = np.zeros((1,1))\n",
    "        target_seq[0, 0] = sampled_token_index\n",
    "\n",
    "        # Update internal states\n",
    "        e_h, e_c = h, c\n",
    "\n",
    "    return decoded_sentence"
   ]
  },
  {
   "cell_type": "code",
   "execution_count": 39,
   "metadata": {},
   "outputs": [],
   "source": [
    "def seq2summary(input_seq):\n",
    "    newString=''\n",
    "    for i in input_seq:\n",
    "        if((i!=0 and i!=target_word_index['sostok']) and i!=target_word_index['eostok']):\n",
    "            newString=newString+reverse_target_word_index[i]+' '\n",
    "    return newString\n",
    "\n",
    "def seq2text(input_seq):\n",
    "    newString=''\n",
    "    for i in input_seq:\n",
    "        if(i!=0):\n",
    "            newString=newString+reverse_source_word_index[i]+' '\n",
    "    return newString"
   ]
  },
  {
   "cell_type": "code",
   "execution_count": 40,
   "metadata": {
    "collapsed": true
   },
   "outputs": [
    {
     "name": "stdout",
     "output_type": "stream",
     "text": [
      "Review: thai kitchen stir fry rice noodles extremely easy prepare taste wonderfully rich would even use substitute egg noodles lot food allergies find alternative wheat noodles \nOriginal summary: rice noodles \n"
     ]
    },
    {
     "name": "stdout",
     "output_type": "stream",
     "text": [
      "Predicted summary:  glad kiwi far okay get gf edible\n\n\nReview: love stuff currently deployed afghanistan working extremely long hours keep delicious little kits office sleeping area saved many times could leave get complete meal dining facility love \nOriginal summary: life saver \nPredicted summary:  glad kiwi far joe doggie far joe\n\n"
     ]
    },
    {
     "name": "stdout",
     "output_type": "stream",
     "text": [
      "\nReview: started using nustevia several years ago back purchase health food store thanks amazon order within days never run product best tried several stevia products taste nustevia please try \nOriginal summary: best alternative to sugar \nPredicted summary:  glad kiwi far get gf joe teas\n\n\nReview: great product mushroom one ones soy ones mentioned individual flavors textures great treat long day office want something healthy reasonably low calorie tried enjoyed varieties highly recommended \nOriginal summary: great high protein snack option \n"
     ]
    },
    {
     "name": "stdout",
     "output_type": "stream",
     "text": [
      "Predicted summary:  them them carb sostok calorie snacks off\n\n\nReview: coffee full robust flavor great alone meal \nOriginal summary: full flavor \nPredicted summary:  king pods always serve serve quality creamer\n\n\nReview: gotta love peanut butter calories fat perfect use peanut butter alone healthy protein shake \nOriginal summary: amazing stuff \n"
     ]
    },
    {
     "name": "stdout",
     "output_type": "stream",
     "text": [
      "Predicted summary:  glad live interesting far serve nasty son\n\n\nReview: super tasty great consistency bar tartness cranberries plays great balance nuts grains perfect cal snack \nOriginal summary: great \nPredicted summary:  glad live serve king edible edible edible\n\n\nReview: toy great dog loves feed dog food eat fast beginning took sometime learn get treats eats whole cup minutes \nOriginal summary: great for your dog \n"
     ]
    },
    {
     "name": "stdout",
     "output_type": "stream",
     "text": [
      "Predicted summary:  glad live serve king edible edible edible\n\n\nReview: much flavor remembered previous purchase tea local grocery store could get locally anymore wondering product discontinued old merchandise \nOriginal summary: product tasted stale to \nPredicted summary:  glad kiwi disposakups kids house fabulous fabulous\n\n\nReview: thought product superior every way packaging color taste etc buy soon needed \nOriginal summary: love \n"
     ]
    },
    {
     "name": "stdout",
     "output_type": "stream",
     "text": [
      "Predicted summary:  glad live serve king edible edible edible\n\n\nReview: looking tastes good favorite consistency bit runny chunks garlic quite tasty \nOriginal summary: bit pricey but yummy \nPredicted summary:  glad live serve king edible edible edible\n\n\nReview: love chips healthier regular ones taste great lots bbq flavor sprinkling like chips \nOriginal summary: bbq pop chips are amazing \n"
     ]
    },
    {
     "name": "stdout",
     "output_type": "stream",
     "text": [
      "Predicted summary:  glad live serve king edible edible edible\n\n\nReview: cat loved chicken pot pie skeptical even ate carrots amazing \nOriginal summary: my cat gave these stars \nPredicted summary:  glad live serve king edible edible edible\n\n\nReview: coffee aromatic flavorful product arrived quickly would recommend coffee anyone milder less robust coffee still flavorful enjoyable \nOriginal summary: delicious \n"
     ]
    },
    {
     "name": "stdout",
     "output_type": "stream",
     "text": [
      "Predicted summary:  glad live serve king edible edible edible\n\n\nReview: tried many simply best con addictive fatty \nOriginal summary: the best \nPredicted summary:  king pods always serve serve quality products\n\n\nReview: drinking stuff least years europe popular sweet like orange sodas tastes amazing \nOriginal summary: the best \n"
     ]
    },
    {
     "name": "stdout",
     "output_type": "stream",
     "text": [
      "Predicted summary:  glad live serve king edible edible edible\n\n\nReview: really choice comes soy dairy free baking uses palm kernel oil consistancy regular seems bake fine need soy dairy free highly recommend \nOriginal summary: the only soy and free \nPredicted summary:  glad live king pods pepper truffles portion\n\n\nReview: cookies great slight tapioca flour taste sensitive chocolate chip ones even better thank dr lucy low calorie gluten free treat \nOriginal summary: great crunchy sweet treat \n"
     ]
    },
    {
     "name": "stdout",
     "output_type": "stream",
     "text": [
      "Predicted summary:  glad serve serve quality think priced green\n\n\nReview: bought recommendation someone also siberian husky say husky must fairly old old siberian husky active heavy chewer figured bottom jug one day chew pieces \nOriginal summary: not for dogs \nPredicted summary:  glad kiwi far joe doggie honey honey\n\n\nReview: bought realized much getting knew grocery store fault really waited seeds great way many freezer \nOriginal summary: the product is fine \n"
     ]
    },
    {
     "name": "stdout",
     "output_type": "stream",
     "text": [
      "Predicted summary:  glad serve ingredient creamer regular donut needs\n\n\nReview: buy vanilla soy creamer use flavor better buying flavored creamers full fragrance nice easy long lasting clever way great coffee home \nOriginal summary: great flavor for coffee \nPredicted summary:  glad live interesting far serve nasty son\n\n\nReview: awesome problem would single serving husband gluten free diet far best chips found varieties popchips bland tasty keep coming back delicious barbeque \nOriginal summary: popchips \n"
     ]
    },
    {
     "name": "stdout",
     "output_type": "stream",
     "text": [
      "Predicted summary:  glad kiwi far okay get gf joe\n\n\nReview: coffee ok mild almost weak would buy price right \nOriginal summary: just ok coffee \nPredicted summary:  king pods always serve serve quality creamer\n\n\nReview: tried ordering amazon first time worried getting cans little top family three consumed within two weeks great flavor great snack order \nOriginal summary: great taste \n"
     ]
    },
    {
     "name": "stdout",
     "output_type": "stream",
     "text": [
      "Predicted summary:  glad kiwi far get fiber gf edible\n\n\nReview: loved popcorn come shipping way top would settle next time something buy spend times shipping \nOriginal summary: great popcorn terrible price for shipping \nPredicted summary:  glad live serve king edible edible edible\n\n\nReview: race raw spanish peanuts best source great protein fat peanuts best bulk quality ever seen \nOriginal summary: terrific quality \n"
     ]
    },
    {
     "name": "stdout",
     "output_type": "stream",
     "text": [
      "Predicted summary:  glad serve king edible edible edible edible\n\n\nReview: use one packet per jar make yogurt almost daily happy raised price otherwise product appears work advertised bit funny taste suspect strong content \nOriginal summary: use \nPredicted summary:  glad medium disposakups family dinner some family\n\n\nReview: aware first ingredient list salt find product peppery hot spicy disappointment \nOriginal summary: first ingredient on the is salt \n"
     ]
    },
    {
     "name": "stdout",
     "output_type": "stream",
     "text": [
      "Predicted summary:  king pods always serve serve quality creamer\n\n\nReview: happy found wonderful decaf tea guests tea nice full flavored smooth finish usually use cup twice setting tea remains true delicious price best found anywhere \nOriginal summary: mm good tea \nPredicted summary:  glad kiwi far get fiber goodness crack\n\n\nReview: good green mountain reserve sumatra better half stars sort tastes little stale \nOriginal summary: good but not perfect \n"
     ]
    },
    {
     "name": "stdout",
     "output_type": "stream",
     "text": [
      "Predicted summary:  king pods always serve serve quality creamer\n\n\nReview: fresh great way get little chocolate life without calories taste like chocolate pudding \nOriginal summary: omg best chocolate jelly \nPredicted summary:  glad live serve king edible edible edible\n\n\nReview: hard find tomato powder reasonably priced little tomato paste sauce requires cook somehow store extra portion \nOriginal summary: at last priced powder \n"
     ]
    },
    {
     "name": "stdout",
     "output_type": "stream",
     "text": [
      "Predicted summary:  glad live serve king edible edible edible\n\n\nReview: wish expensive absolutely worth price care feeding dog quality grain free food \nOriginal summary: wonderful product \nPredicted summary:  king pods always serve serve quality products\n\n\nReview: best eat day go quickly going tell many ive bought since jan year great love \nOriginal summary: addicted love them get enough \n"
     ]
    },
    {
     "name": "stdout",
     "output_type": "stream",
     "text": [
      "Predicted summary:  glad serve creamer enjoyable butter pear addictive\n\n\nReview: gave daughter uses recipes wanted use smoothies tasted bad \nOriginal summary: tasted \nPredicted summary:  king pods always serve serve quality creamer\n\n\nReview: love taste found many cups explode glue side cup becomes cup hard clean think buy brand \nOriginal summary: poor quality \n"
     ]
    },
    {
     "name": "stdout",
     "output_type": "stream",
     "text": [
      "Predicted summary:  glad live serve king edible edible edible\n\n\nReview: cats favorite cat food eat lot different cat foods loves one \nOriginal summary: cat food \nPredicted summary:  glad live serve king edible edible edible\n\n\nReview: product wonderful however package contents bent arrived suspect lack lack air packets packaging one almost bent point puncture \nOriginal summary: great product poor shipping package \n"
     ]
    },
    {
     "name": "stdout",
     "output_type": "stream",
     "text": [
      "Predicted summary:  glad serve king edible edible edible edible\n\n\nReview: thought would love product found rather tasteless always use vanilla chai love use teabags get decent flavor caramel \nOriginal summary: disappointed \nPredicted summary:  glad live king pods pepper truffles nothing\n\n\nReview: pill pockets great dogs love soft perfectly hides pill medication give \nOriginal summary: great pill pockets \n"
     ]
    },
    {
     "name": "stdout",
     "output_type": "stream",
     "text": [
      "Predicted summary:  king pods always serve quality serve quality\n\n\nReview: sooooo good addictive know carrot chips fries carrot chips think potato chips vs corn chips trying use either love hate entire family \nOriginal summary: love these \nPredicted summary:  glad serve ingredient creamer regular donut free\n\n\nReview: trouble finding easter best jelly beans ever packing slightly different jelly beans \nOriginal summary: best jelly beans ever \n"
     ]
    },
    {
     "name": "stdout",
     "output_type": "stream",
     "text": [
      "Predicted summary:  king edible edible edible edible edible edible\n\n\nReview: children eat healthy products love graham crackers glad available amazon \nOriginal summary: excellent product \nPredicted summary:  glad live serve king edible edible edible\n\n\nReview: first purchased product months ago co worker mentioned decided try surprise delicious sold continue buy like hot fresh pork rinds spicy ones product summer \nOriginal summary: best pork rinds ever \n"
     ]
    },
    {
     "name": "stdout",
     "output_type": "stream",
     "text": [
      "Predicted summary:  glad medium disposakups family dinner herbal tastes\n\n\nReview: dog loves treat toys one really know else say except completely might work big dogs like rip things apart \nOriginal summary: it \nPredicted summary:  glad live serve king pods pods portion\n\n\nReview: looking treat whose protein low made usa organic size treats us quarter \nOriginal summary: perfect \n"
     ]
    },
    {
     "name": "stdout",
     "output_type": "stream",
     "text": [
      "Predicted summary:  king pods always serve serve quality products\n\n\nReview: wife loves oatmeal cannot always find get good price hope keep carrying \nOriginal summary: oats oatmeal \nPredicted summary:  glad live serve king edible edible edible\n\n\nReview: like chips lot whole pack get chips fish \nOriginal summary: yum yum love me pop chips \n"
     ]
    },
    {
     "name": "stdout",
     "output_type": "stream",
     "text": [
      "Predicted summary:  glad live serve king edible edible edible\n\n\nReview: product delicious mix lot coffee shops use disappointed \nOriginal summary: delicious \nPredicted summary:  king pods always serve serve quality creamer\n\n\nReview: wafer rolls delivered large amount breakage taste good would nice something wafer rather crumbs however price right \nOriginal summary: all natural \n"
     ]
    },
    {
     "name": "stdout",
     "output_type": "stream",
     "text": [
      "Predicted summary:  glad live serve king edible edible edible\n\n\nReview: skeptical quality hot chocolate cup grove square amazing good making scratch without fuss milk chocolate mild dark enough bite make interesting peppermint perfect dinner \nOriginal summary: excellent hot \nPredicted summary:  glad kiwi disposakups kids some huge family\n\n\nReview: found peanuts years ago lived virginia although moved united states still order regular basis use best nuts cook right crunch great flavor expect virginia style peanuts \nOriginal summary: great tasting nuts \n"
     ]
    },
    {
     "name": "stdout",
     "output_type": "stream",
     "text": [
      "Predicted summary:  glad kiwi far texture okay get acid\n\n\nReview: opinion far best tasting cup flavored drink tried distinct coffee flavor strong light \nOriginal summary: the best kcup flavor out there \nPredicted summary:  glad live king pods yes pepper rancid\n\n\nReview: changing kitty food dry wet tried many different flavors favorite mixed dry food first three days gave canned salmon bowl clean \nOriginal summary: winner for my picky cat \n"
     ]
    },
    {
     "name": "stdout",
     "output_type": "stream",
     "text": [
      "Predicted summary:  glad live medium disposakups king family read\n\n\nReview: way like bold full flavored drink black love taste favorite around house \nOriginal summary: this is bold \nPredicted summary:  glad serve creamer enjoyable butter addictive simply\n\n\nReview: add chia seeds morning shake breakfast love taste great almost like tiny better particular bag last long time considering consume daily also cheaper stores def recommend product \nOriginal summary: chia seeds \n"
     ]
    },
    {
     "name": "stdout",
     "output_type": "stream",
     "text": [
      "Predicted summary:  glad kiwi far joe doggie doggy doggy\n\n\nReview: makes great nut butters chocolate version like nutella less sugar crap delicious super nutritious \nOriginal summary: quality nut \nPredicted summary:  king pods always pepper no allergy at\n\n\nReview: love brewing chamomile tea scratch one best things help fall day work great stuff great price \nOriginal summary: great value and wonderful tea \n"
     ]
    },
    {
     "name": "stdout",
     "output_type": "stream",
     "text": [
      "Predicted summary:  glad serve ingredient creamer regular donut item\n\n\nReview: naturals chia seed become favorite easy set next delivery date enjoy healthy seeds sad amazon removed auto ship program continue buy long available health benefits \nOriginal summary: this can no be \nPredicted summary:  glad kiwi far okay get crack delicous\n\n\nReview: dog food ran two weeks ago local source bought called equivalent see suffer itching belly aches ordered amazon yesterday free shipping sent hours later recieved today \nOriginal summary: newman own organic dog food \n"
     ]
    },
    {
     "name": "stdout",
     "output_type": "stream",
     "text": [
      "Predicted summary:  glad kiwi far texture okay get crack\n\n\nReview: use twins love never problems wish cheaper \nOriginal summary: worked great for us \nPredicted summary:  king pods always serve serve quality creamer\n\n\nReview: ordered year ago repeatedly ordered since everyone shared loved much also gotten right amazon ordered also mix coffee feeling particularly top cream delicious \nOriginal summary: totally \n"
     ]
    },
    {
     "name": "stdout",
     "output_type": "stream",
     "text": [
      "Predicted summary:  glad kiwi far get fiber gf edible\n\n\nReview: paul makes great seafood seasoning pork seasoning found vegetable seasoning spicy \nOriginal summary: seasoning very spicy \nPredicted summary:  glad serve serve popcorn serve yuck leaf\n\n\nReview: deployed love treat reminds home popular home times \nOriginal summary: treat from home \n"
     ]
    },
    {
     "name": "stdout",
     "output_type": "stream",
     "text": [
      "Predicted summary:  glad live serve king edible edible edible\n\n\nReview: really good like make little extra milk thin cannot even tell difference regular pancakes worth price family \nOriginal summary: good gluten free pancakes \nPredicted summary:  glad live serve king edible edible edible\n\n\nReview: good side dish easy make easy eat others said needs little spice delicious \nOriginal summary: very good \n"
     ]
    },
    {
     "name": "stdout",
     "output_type": "stream",
     "text": [
      "Predicted summary:  glad live king pods yes pods always\n\n\nReview: pour oil cooked pasta fry eggs use everything calls butter superb olive oil \nOriginal summary: perfect for cooking \nPredicted summary:  glad live serve king edible edible edible\n\n\nReview: exactly advertised plenty space set keurig brewer top still fit counter top cups nicely drawer easy access see cups may want \nOriginal summary: cup \n"
     ]
    },
    {
     "name": "stdout",
     "output_type": "stream",
     "text": [
      "Predicted summary:  glad kiwi far get fiber fiber goodness\n\n\nReview: tea usa know mandarin silk loose leaf oolong tea like name suggests silk silk tongue tea warm relaxing taste makes feel wonderful well done tea \nOriginal summary: awesome \nPredicted summary:  glad kiwi disposakups effective hit hit some\n\n\nReview: bought yesterday local store expiration really smelled bad supposed open every single smell test buying \nOriginal summary: bad smell \n"
     ]
    },
    {
     "name": "stdout",
     "output_type": "stream",
     "text": [
      "Predicted summary:  glad live serve king edible edible edible\n\n\nReview: cookies truly favorite beyond make cook whole wheat version particularly superb greater flavor original lovely slightly crumbly grainy texture wonderful bon \nOriginal summary: with perfect packaging \nPredicted summary:  glad kiwi far okay get crack delicous\n\n\nReview: really enjoy low calorie chips good flavor good crunch crisp wondering ordering case chips one could order favorites whole flavors say flavors desired great product stop manufacturing \nOriginal summary: yummy \n"
     ]
    },
    {
     "name": "stdout",
     "output_type": "stream",
     "text": [
      "Predicted summary:  glad rinds cookie stores stores maker does\n\n\nReview: understand dog food full reviews give dog food stars beats science diet purina one use use diamond natural less expensive \nOriginal summary: quality at good price \nPredicted summary:  glad medium disposakups family mellow king makes\n\n\nReview: first tea restaurant immediately tasted natural sweetness tea bitter tea sweet like perfect cup tea \nOriginal summary: no needed \n"
     ]
    },
    {
     "name": "stdout",
     "output_type": "stream",
     "text": [
      "Predicted summary:  glad live serve creamer serve yuck oatmeal\n\n\nReview: product excellent tried one night quick easy dinner whole family loved including fussy year old daughter well worth trying \nOriginal summary: excellent flavor \n"
     ]
    },
    {
     "name": "stdout",
     "output_type": "stream",
     "text": [
      "Predicted summary:  glad never packaging rinds pods pods we\n\n\nReview: ordered many kind bars amazon disappointed time bars taste good hard rocks taking chance trip biting could find place let amazon know posted maybe problem \nOriginal summary: good but not well \nPredicted summary:  them them lucky them lucky how anywhere\n\n\nReview: closest thing movie popcorn every kernel pops great flavor recommend popcorn anyone likes theater popcorn \n"
     ]
    },
    {
     "name": "stdout",
     "output_type": "stream",
     "text": [
      "Original summary: best popcorn \nPredicted summary:  glad live serve king edible edible edible\n\n\nReview: price excellent tea arrived quickly buying tea future \nOriginal summary: tea \nPredicted summary:  glad live serve king edible edible edible\n\n\nReview: tastes great got fast ordered air popper sister loved much \nOriginal summary: popcorn \n"
     ]
    },
    {
     "name": "stdout",
     "output_type": "stream",
     "text": [
      "Predicted summary:  king pods always serve serve quality creamer\n\n\nReview: coffee sample selection ordered keurig brewer far favorite ordered coffee several times amazon dark roast strong \nOriginal summary: wolfgang puck coffee for keurig \nPredicted summary:  glad serve creamer enjoyable they starter buddy\n\n\nReview: tried mixes pancakes awful one really good buy stock co people buying product sure \nOriginal summary: really good mix \n"
     ]
    },
    {
     "name": "stdout",
     "output_type": "stream",
     "text": [
      "Predicted summary:  glad live serve king edible edible edible\n\n\nReview: reading earlier reviews bad packaging bit hesitant ordering favourite biscuits thought give try product got delivered simply superb quality packaging amazon \nOriginal summary: simply superb packaging shipping \nPredicted summary:  glad kiwi far get fiber goodness crack\n\n\nReview: excellent product always ran olive juice ran olives making dirty martinis terrific source great tasting olive juice dirty martinis never better \nOriginal summary: dirty olive juice \n"
     ]
    },
    {
     "name": "stdout",
     "output_type": "stream",
     "text": [
      "Predicted summary:  glad does ingredient donut around around friend\n\n\nReview: tried many corn soy ingredients list automatic soy corn modified unless says organic non gmo gm eat gm products feed pets \nOriginal summary: ingredients no thank you \nPredicted summary:  glad live medium disposakups worked creamer mango\n\n\nReview: kind bitter recommend buying first store buying case almost strips great portable vegetarian protein snack \nOriginal summary: high protein and vegetarian but bit bitter \n"
     ]
    },
    {
     "name": "stdout",
     "output_type": "stream",
     "text": [
      "Predicted summary:  glad maybe far oh ground poor stores\n\n\nReview: made according package directions added cup mini chocolate chips awesome took longer cook box says maybe chocolate chips either way great definitely make \nOriginal summary: yummy \nPredicted summary:  glad live medium disposakups worked buy creamer\n\n\nReview: great snacking healthy bags filled smaller snacks reordering regular basis \nOriginal summary: absolutely yummy \n"
     ]
    },
    {
     "name": "stdout",
     "output_type": "stream",
     "text": [
      "Predicted summary:  glad maybe far oh ground stores stores\n\n\nReview: delicious flavorful tea must cinnamon lovers also pleasant sweetness even us use sweeteners enjoy wonderful hot drink especially like cold drink \nOriginal summary: if you like cinnamon \nPredicted summary:  glad kiwi far get fiber gf chai\n\n\nReview: fool italian husband fool anyone think consistency close wheat pasta cannot wait try laws \nOriginal summary: this rice pasta is \n"
     ]
    },
    {
     "name": "stdout",
     "output_type": "stream",
     "text": [
      "Predicted summary:  glad serve king edible edible edible edible\n\n\nReview: dog loves treats yorkie right size let friend give dog loved also \nOriginal summary: best buddy bones \nPredicted summary:  king pods always serve serve quality creamer\n\n\nReview: really enjoy coffee recommend store airtight container opening maintain full flavor enjoy evening coffee \nOriginal summary: great raspberry flavor \n"
     ]
    },
    {
     "name": "stdout",
     "output_type": "stream",
     "text": [
      "Predicted summary:  king pods always pepper no allergy at\n\n\nReview: keeps dog entertained get sometimes never one playing toys staying one thing period time seem like though \nOriginal summary: busy buddy \nPredicted summary:  glad live far serve serve popcorn serve\n\n\nReview: water based sardines without salt bad product far superior types normally purchase stores \nOriginal summary: water low sodium that actually taste good \n"
     ]
    },
    {
     "name": "stdout",
     "output_type": "stream",
     "text": [
      "Predicted summary:  glad live serve king edible edible edible\n\n\nReview: great tasting coffee good first thing morning anytime smooth green mountain puts great tasting coffee flavors blends \nOriginal summary: very good \nPredicted summary:  glad maybe far oh ground stores poor\n\n\nReview: search treats made came made \nOriginal summary: made in china \n"
     ]
    },
    {
     "name": "stdout",
     "output_type": "stream",
     "text": [
      "Predicted summary:  king pods always serve serve quality products\n\n\nReview: wasnt sure would even like keurig coffee maker like strong coffee wonderful us like mild brews plus little cups convienient recommend product \nOriginal summary: glad this great price \nPredicted summary:  glad kiwi far get fiber goodness crack\n\n\nReview: never enough juice left jar olives therefore end olives eat buying juice makes alot sense \nOriginal summary: my husband loves dirty \n"
     ]
    },
    {
     "name": "stdout",
     "output_type": "stream",
     "text": [
      "Predicted summary:  king pods always pepper mix chocolate mix\n\n\nReview: combine libby organic black beans libby organic green beans mixed bob red mill organic brown rice least two three times per week perfect meal every time \nOriginal summary: goes great with black beans and rice \nPredicted summary:  glad kiwi kids help some huge family\n\n\nReview: popcorn microwave cheese popcorn tastes somehow must cheese packet tastes yummy \nOriginal summary: yum \n"
     ]
    },
    {
     "name": "stdout",
     "output_type": "stream",
     "text": [
      "Predicted summary:  king pods always serve quality serve quality\n\n\nReview: get good one bone ordered thinking getting cute basket bones value let picture item worth merrick smoked jerky bone \nOriginal summary: dog treats \nPredicted summary:  glad live king pods pepper truffles nothing\n\n\n"
     ]
    }
   ],
   "source": [
    "for i in range(0,100):\n",
    "    print(\"Review:\",seq2text(x_tr[i]))\n",
    "    print(\"Original summary:\",seq2summary(y_tr[i]))\n",
    "    print(\"Predicted summary:\",decode_sequence(x_tr[i].reshape(1,max_text_len)))\n",
    "    print(\"\\n\")"
   ]
  },
  {
   "cell_type": "code",
   "execution_count": 79,
   "metadata": {
    "collapsed": false
   },
   "outputs": [],
   "source": [
    ""
   ]
  },
  {
   "cell_type": "code",
   "execution_count": 80,
   "metadata": {
    "collapsed": true
   },
   "outputs": [
    {
     "ename": "ValueError",
     "evalue": "Unknown layer: AttentionLayer",
     "traceback": [
      "\u001b[0;31m---------------------------------------------------------------------------\u001b[0m",
      "\u001b[0;31mValueError\u001b[0m                                Traceback (most recent call last)",
      "\u001b[0;32m<ipython-input-80-6c8f0b79c058>\u001b[0m in \u001b[0;36m<module>\u001b[0;34m()\u001b[0m\n\u001b[1;32m      3\u001b[0m \u001b[0;32mfrom\u001b[0m \u001b[0mkeras\u001b[0m\u001b[0;34m.\u001b[0m\u001b[0mutils\u001b[0m \u001b[0;32mimport\u001b[0m \u001b[0mCustomObjectScope\u001b[0m\u001b[0;34m\u001b[0m\u001b[0m\n\u001b[1;32m      4\u001b[0m \u001b[0;32mwith\u001b[0m \u001b[0mCustomObjectScope\u001b[0m\u001b[0;34m(\u001b[0m\u001b[0;34m{\u001b[0m\u001b[0;34m'AttentionLayer'\u001b[0m\u001b[0;34m:\u001b[0m \u001b[0mAttentionLayer\u001b[0m\u001b[0;34m}\u001b[0m\u001b[0;34m)\u001b[0m\u001b[0;34m:\u001b[0m\u001b[0;34m\u001b[0m\u001b[0m\n\u001b[0;32m----> 5\u001b[0;31m     \u001b[0mmodel\u001b[0m \u001b[0;34m=\u001b[0m \u001b[0mload_model\u001b[0m\u001b[0;34m(\u001b[0m\u001b[0;34m'model.h5'\u001b[0m\u001b[0;34m)\u001b[0m\u001b[0;34m\u001b[0m\u001b[0m\n\u001b[0m",
      "\u001b[0;32mC:\\Users\\HP\\AppData\\Roaming\\Python\\Python37\\site-packages\\tensorflow\\python\\keras\\saving\\save.py\u001b[0m in \u001b[0;36mload_model\u001b[0;34m(filepath, custom_objects, compile)\u001b[0m\n\u001b[1;32m    144\u001b[0m       h5py is not None and (\n\u001b[1;32m    145\u001b[0m           isinstance(filepath, h5py.File) or h5py.is_hdf5(filepath))):\n\u001b[0;32m--> 146\u001b[0;31m     \u001b[0;32mreturn\u001b[0m \u001b[0mhdf5_format\u001b[0m\u001b[0;34m.\u001b[0m\u001b[0mload_model_from_hdf5\u001b[0m\u001b[0;34m(\u001b[0m\u001b[0mfilepath\u001b[0m\u001b[0;34m,\u001b[0m \u001b[0mcustom_objects\u001b[0m\u001b[0;34m,\u001b[0m \u001b[0mcompile\u001b[0m\u001b[0;34m)\u001b[0m\u001b[0;34m\u001b[0m\u001b[0m\n\u001b[0m\u001b[1;32m    147\u001b[0m \u001b[0;34m\u001b[0m\u001b[0m\n\u001b[1;32m    148\u001b[0m   \u001b[0;32mif\u001b[0m \u001b[0misinstance\u001b[0m\u001b[0;34m(\u001b[0m\u001b[0mfilepath\u001b[0m\u001b[0;34m,\u001b[0m \u001b[0msix\u001b[0m\u001b[0;34m.\u001b[0m\u001b[0mstring_types\u001b[0m\u001b[0;34m)\u001b[0m\u001b[0;34m:\u001b[0m\u001b[0;34m\u001b[0m\u001b[0m\n",
      "\u001b[0;32mC:\\Users\\HP\\AppData\\Roaming\\Python\\Python37\\site-packages\\tensorflow\\python\\keras\\saving\\hdf5_format.py\u001b[0m in \u001b[0;36mload_model_from_hdf5\u001b[0;34m(filepath, custom_objects, compile)\u001b[0m\n\u001b[1;32m    210\u001b[0m     \u001b[0mmodel_config\u001b[0m \u001b[0;34m=\u001b[0m \u001b[0mjson\u001b[0m\u001b[0;34m.\u001b[0m\u001b[0mloads\u001b[0m\u001b[0;34m(\u001b[0m\u001b[0mmodel_config\u001b[0m\u001b[0;34m.\u001b[0m\u001b[0mdecode\u001b[0m\u001b[0;34m(\u001b[0m\u001b[0;34m'utf-8'\u001b[0m\u001b[0;34m)\u001b[0m\u001b[0;34m)\u001b[0m\u001b[0;34m\u001b[0m\u001b[0m\n\u001b[1;32m    211\u001b[0m     model = model_config_lib.model_from_config(model_config,\n\u001b[0;32m--> 212\u001b[0;31m                                                custom_objects=custom_objects)\n\u001b[0m\u001b[1;32m    213\u001b[0m \u001b[0;34m\u001b[0m\u001b[0m\n\u001b[1;32m    214\u001b[0m     \u001b[0;31m# set weights\u001b[0m\u001b[0;34m\u001b[0m\u001b[0;34m\u001b[0m\u001b[0m\n",
      "\u001b[0;32mC:\\Users\\HP\\AppData\\Roaming\\Python\\Python37\\site-packages\\tensorflow\\python\\keras\\saving\\model_config.py\u001b[0m in \u001b[0;36mmodel_from_config\u001b[0;34m(config, custom_objects)\u001b[0m\n\u001b[1;32m     53\u001b[0m                     '`Sequential.from_config(config)`?')\n\u001b[1;32m     54\u001b[0m   \u001b[0;32mfrom\u001b[0m \u001b[0mtensorflow\u001b[0m\u001b[0;34m.\u001b[0m\u001b[0mpython\u001b[0m\u001b[0;34m.\u001b[0m\u001b[0mkeras\u001b[0m\u001b[0;34m.\u001b[0m\u001b[0mlayers\u001b[0m \u001b[0;32mimport\u001b[0m \u001b[0mdeserialize\u001b[0m  \u001b[0;31m# pylint: disable=g-import-not-at-top\u001b[0m\u001b[0;34m\u001b[0m\u001b[0m\n\u001b[0;32m---> 55\u001b[0;31m   \u001b[0;32mreturn\u001b[0m \u001b[0mdeserialize\u001b[0m\u001b[0;34m(\u001b[0m\u001b[0mconfig\u001b[0m\u001b[0;34m,\u001b[0m \u001b[0mcustom_objects\u001b[0m\u001b[0;34m=\u001b[0m\u001b[0mcustom_objects\u001b[0m\u001b[0;34m)\u001b[0m\u001b[0;34m\u001b[0m\u001b[0m\n\u001b[0m\u001b[1;32m     56\u001b[0m \u001b[0;34m\u001b[0m\u001b[0m\n\u001b[1;32m     57\u001b[0m \u001b[0;34m\u001b[0m\u001b[0m\n",
      "\u001b[0;32mC:\\Users\\HP\\AppData\\Roaming\\Python\\Python37\\site-packages\\tensorflow\\python\\keras\\layers\\serialization.py\u001b[0m in \u001b[0;36mdeserialize\u001b[0;34m(config, custom_objects)\u001b[0m\n\u001b[1;32m     87\u001b[0m       \u001b[0mmodule_objects\u001b[0m\u001b[0;34m=\u001b[0m\u001b[0mglobs\u001b[0m\u001b[0;34m,\u001b[0m\u001b[0;34m\u001b[0m\u001b[0m\n\u001b[1;32m     88\u001b[0m       \u001b[0mcustom_objects\u001b[0m\u001b[0;34m=\u001b[0m\u001b[0mcustom_objects\u001b[0m\u001b[0;34m,\u001b[0m\u001b[0;34m\u001b[0m\u001b[0m\n\u001b[0;32m---> 89\u001b[0;31m       printable_module_name='layer')\n\u001b[0m",
      "\u001b[0;32mC:\\Users\\HP\\AppData\\Roaming\\Python\\Python37\\site-packages\\tensorflow\\python\\keras\\utils\\generic_utils.py\u001b[0m in \u001b[0;36mdeserialize_keras_object\u001b[0;34m(identifier, module_objects, custom_objects, printable_module_name)\u001b[0m\n\u001b[1;32m    190\u001b[0m             custom_objects=dict(\n\u001b[1;32m    191\u001b[0m                 \u001b[0mlist\u001b[0m\u001b[0;34m(\u001b[0m\u001b[0m_GLOBAL_CUSTOM_OBJECTS\u001b[0m\u001b[0;34m.\u001b[0m\u001b[0mitems\u001b[0m\u001b[0;34m(\u001b[0m\u001b[0;34m)\u001b[0m\u001b[0;34m)\u001b[0m \u001b[0;34m+\u001b[0m\u001b[0;34m\u001b[0m\u001b[0m\n\u001b[0;32m--> 192\u001b[0;31m                 list(custom_objects.items())))\n\u001b[0m\u001b[1;32m    193\u001b[0m       \u001b[0;32mwith\u001b[0m \u001b[0mCustomObjectScope\u001b[0m\u001b[0;34m(\u001b[0m\u001b[0mcustom_objects\u001b[0m\u001b[0;34m)\u001b[0m\u001b[0;34m:\u001b[0m\u001b[0;34m\u001b[0m\u001b[0m\n\u001b[1;32m    194\u001b[0m         \u001b[0;32mreturn\u001b[0m \u001b[0mcls\u001b[0m\u001b[0;34m.\u001b[0m\u001b[0mfrom_config\u001b[0m\u001b[0;34m(\u001b[0m\u001b[0mcls_config\u001b[0m\u001b[0;34m)\u001b[0m\u001b[0;34m\u001b[0m\u001b[0m\n",
      "\u001b[0;32mC:\\Users\\HP\\AppData\\Roaming\\Python\\Python37\\site-packages\\tensorflow\\python\\keras\\engine\\network.py\u001b[0m in \u001b[0;36mfrom_config\u001b[0;34m(cls, config, custom_objects)\u001b[0m\n\u001b[1;32m   1119\u001b[0m     \u001b[0;31m# First, we create all layers and enqueue nodes to be processed\u001b[0m\u001b[0;34m\u001b[0m\u001b[0;34m\u001b[0m\u001b[0m\n\u001b[1;32m   1120\u001b[0m     \u001b[0;32mfor\u001b[0m \u001b[0mlayer_data\u001b[0m \u001b[0;32min\u001b[0m \u001b[0mconfig\u001b[0m\u001b[0;34m[\u001b[0m\u001b[0;34m'layers'\u001b[0m\u001b[0;34m]\u001b[0m\u001b[0;34m:\u001b[0m\u001b[0;34m\u001b[0m\u001b[0m\n\u001b[0;32m-> 1121\u001b[0;31m       \u001b[0mprocess_layer\u001b[0m\u001b[0;34m(\u001b[0m\u001b[0mlayer_data\u001b[0m\u001b[0;34m)\u001b[0m\u001b[0;34m\u001b[0m\u001b[0m\n\u001b[0m\u001b[1;32m   1122\u001b[0m     \u001b[0;31m# Then we process nodes in order of layer depth.\u001b[0m\u001b[0;34m\u001b[0m\u001b[0;34m\u001b[0m\u001b[0m\n\u001b[1;32m   1123\u001b[0m     \u001b[0;31m# Nodes that cannot yet be processed (if the inbound node\u001b[0m\u001b[0;34m\u001b[0m\u001b[0;34m\u001b[0m\u001b[0m\n",
      "\u001b[0;32mC:\\Users\\HP\\AppData\\Roaming\\Python\\Python37\\site-packages\\tensorflow\\python\\keras\\engine\\network.py\u001b[0m in \u001b[0;36mprocess_layer\u001b[0;34m(layer_data)\u001b[0m\n\u001b[1;32m   1103\u001b[0m       \u001b[0;32mfrom\u001b[0m \u001b[0mtensorflow\u001b[0m\u001b[0;34m.\u001b[0m\u001b[0mpython\u001b[0m\u001b[0;34m.\u001b[0m\u001b[0mkeras\u001b[0m\u001b[0;34m.\u001b[0m\u001b[0mlayers\u001b[0m \u001b[0;32mimport\u001b[0m \u001b[0mdeserialize\u001b[0m \u001b[0;32mas\u001b[0m \u001b[0mdeserialize_layer\u001b[0m  \u001b[0;31m# pylint: disable=g-import-not-at-top\u001b[0m\u001b[0;34m\u001b[0m\u001b[0m\n\u001b[1;32m   1104\u001b[0m \u001b[0;34m\u001b[0m\u001b[0m\n\u001b[0;32m-> 1105\u001b[0;31m       \u001b[0mlayer\u001b[0m \u001b[0;34m=\u001b[0m \u001b[0mdeserialize_layer\u001b[0m\u001b[0;34m(\u001b[0m\u001b[0mlayer_data\u001b[0m\u001b[0;34m,\u001b[0m \u001b[0mcustom_objects\u001b[0m\u001b[0;34m=\u001b[0m\u001b[0mcustom_objects\u001b[0m\u001b[0;34m)\u001b[0m\u001b[0;34m\u001b[0m\u001b[0m\n\u001b[0m\u001b[1;32m   1106\u001b[0m       \u001b[0mcreated_layers\u001b[0m\u001b[0;34m[\u001b[0m\u001b[0mlayer_name\u001b[0m\u001b[0;34m]\u001b[0m \u001b[0;34m=\u001b[0m \u001b[0mlayer\u001b[0m\u001b[0;34m\u001b[0m\u001b[0m\n\u001b[1;32m   1107\u001b[0m \u001b[0;34m\u001b[0m\u001b[0m\n",
      "\u001b[0;32mC:\\Users\\HP\\AppData\\Roaming\\Python\\Python37\\site-packages\\tensorflow\\python\\keras\\layers\\serialization.py\u001b[0m in \u001b[0;36mdeserialize\u001b[0;34m(config, custom_objects)\u001b[0m\n\u001b[1;32m     87\u001b[0m       \u001b[0mmodule_objects\u001b[0m\u001b[0;34m=\u001b[0m\u001b[0mglobs\u001b[0m\u001b[0;34m,\u001b[0m\u001b[0;34m\u001b[0m\u001b[0m\n\u001b[1;32m     88\u001b[0m       \u001b[0mcustom_objects\u001b[0m\u001b[0;34m=\u001b[0m\u001b[0mcustom_objects\u001b[0m\u001b[0;34m,\u001b[0m\u001b[0;34m\u001b[0m\u001b[0m\n\u001b[0;32m---> 89\u001b[0;31m       printable_module_name='layer')\n\u001b[0m",
      "\u001b[0;32mC:\\Users\\HP\\AppData\\Roaming\\Python\\Python37\\site-packages\\tensorflow\\python\\keras\\utils\\generic_utils.py\u001b[0m in \u001b[0;36mdeserialize_keras_object\u001b[0;34m(identifier, module_objects, custom_objects, printable_module_name)\u001b[0m\n\u001b[1;32m    179\u001b[0m     \u001b[0mconfig\u001b[0m \u001b[0;34m=\u001b[0m \u001b[0midentifier\u001b[0m\u001b[0;34m\u001b[0m\u001b[0m\n\u001b[1;32m    180\u001b[0m     (cls, cls_config) = class_and_config_for_serialized_keras_object(\n\u001b[0;32m--> 181\u001b[0;31m         config, module_objects, custom_objects, printable_module_name)\n\u001b[0m\u001b[1;32m    182\u001b[0m \u001b[0;34m\u001b[0m\u001b[0m\n\u001b[1;32m    183\u001b[0m     \u001b[0;32mif\u001b[0m \u001b[0mhasattr\u001b[0m\u001b[0;34m(\u001b[0m\u001b[0mcls\u001b[0m\u001b[0;34m,\u001b[0m \u001b[0;34m'from_config'\u001b[0m\u001b[0;34m)\u001b[0m\u001b[0;34m:\u001b[0m\u001b[0;34m\u001b[0m\u001b[0m\n",
      "\u001b[0;32mC:\\Users\\HP\\AppData\\Roaming\\Python\\Python37\\site-packages\\tensorflow\\python\\keras\\utils\\generic_utils.py\u001b[0m in \u001b[0;36mclass_and_config_for_serialized_keras_object\u001b[0;34m(config, module_objects, custom_objects, printable_module_name)\u001b[0m\n\u001b[1;32m    164\u001b[0m     \u001b[0mcls\u001b[0m \u001b[0;34m=\u001b[0m \u001b[0mmodule_objects\u001b[0m\u001b[0;34m.\u001b[0m\u001b[0mget\u001b[0m\u001b[0;34m(\u001b[0m\u001b[0mclass_name\u001b[0m\u001b[0;34m)\u001b[0m\u001b[0;34m\u001b[0m\u001b[0m\n\u001b[1;32m    165\u001b[0m     \u001b[0;32mif\u001b[0m \u001b[0mcls\u001b[0m \u001b[0;32mis\u001b[0m \u001b[0;32mNone\u001b[0m\u001b[0;34m:\u001b[0m\u001b[0;34m\u001b[0m\u001b[0m\n\u001b[0;32m--> 166\u001b[0;31m       \u001b[0;32mraise\u001b[0m \u001b[0mValueError\u001b[0m\u001b[0;34m(\u001b[0m\u001b[0;34m'Unknown '\u001b[0m \u001b[0;34m+\u001b[0m \u001b[0mprintable_module_name\u001b[0m \u001b[0;34m+\u001b[0m \u001b[0;34m': '\u001b[0m \u001b[0;34m+\u001b[0m \u001b[0mclass_name\u001b[0m\u001b[0;34m)\u001b[0m\u001b[0;34m\u001b[0m\u001b[0m\n\u001b[0m\u001b[1;32m    167\u001b[0m   \u001b[0;32mreturn\u001b[0m \u001b[0;34m(\u001b[0m\u001b[0mcls\u001b[0m\u001b[0;34m,\u001b[0m \u001b[0mconfig\u001b[0m\u001b[0;34m[\u001b[0m\u001b[0;34m'config'\u001b[0m\u001b[0;34m]\u001b[0m\u001b[0;34m)\u001b[0m\u001b[0;34m\u001b[0m\u001b[0m\n\u001b[1;32m    168\u001b[0m \u001b[0;34m\u001b[0m\u001b[0m\n",
      "\u001b[0;31mValueError\u001b[0m: Unknown layer: AttentionLayer"
     ],
     "output_type": "error"
    }
   ],
   "source": [
    ""
   ]
  },
  {
   "cell_type": "code",
   "execution_count": 86,
   "metadata": {},
   "outputs": [],
   "source": [
    ""
   ]
  },
  {
   "cell_type": "code",
   "execution_count": 87,
   "metadata": {},
   "outputs": [],
   "source": [
    ""
   ]
  },
  {
   "cell_type": "code",
   "execution_count": 89,
   "metadata": {},
   "outputs": [],
   "source": [
    ""
   ]
  },
  {
   "cell_type": "code",
   "execution_count": 90,
   "metadata": {},
   "outputs": [],
   "source": [
    ""
   ]
  },
  {
   "cell_type": "code",
   "execution_count": 91,
   "metadata": {},
   "outputs": [
    {
     "name": "stdout",
     "output_type": "stream",
     "text": [
      "Review: thai kitchen stir fry rice noodles extremely easy prepare taste wonderfully rich would even use substitute egg noodles lot food allergies find alternative wheat noodles \nOriginal summary: rice noodles \n"
     ]
    },
    {
     "name": "stdout",
     "output_type": "stream",
     "text": [
      "Predicted summary:  great product\n\n\nReview: love stuff currently deployed afghanistan working extremely long hours keep delicious little kits office sleeping area saved many times could leave get complete meal dining facility love \nOriginal summary: life saver \nPredicted summary:  great\n\n\nReview: started using nustevia several years ago back purchase health food store thanks amazon order within days never run product best tried several stevia products taste nustevia please try \nOriginal summary: best alternative to sugar \n"
     ]
    },
    {
     "name": "stdout",
     "output_type": "stream",
     "text": [
      "Predicted summary:  great product\n\n\nReview: great product mushroom one ones soy ones mentioned individual flavors textures great treat long day office want something healthy reasonably low calorie tried enjoyed varieties highly recommended \nOriginal summary: great high protein snack option \n"
     ]
    },
    {
     "name": "stdout",
     "output_type": "stream",
     "text": [
      "Predicted summary:  great product\n\n\nReview: coffee full robust flavor great alone meal \nOriginal summary: full flavor \n"
     ]
    },
    {
     "name": "stdout",
     "output_type": "stream",
     "text": [
      "Predicted summary:  great coffee\n\n\nReview: gotta love peanut butter calories fat perfect use peanut butter alone healthy protein shake \nOriginal summary: amazing stuff \nPredicted summary:"
     ]
    },
    {
     "name": "stdout",
     "output_type": "stream",
     "text": [
      "  great\n\n\nReview: super tasty great consistency bar tartness cranberries plays great balance nuts grains perfect cal snack \nOriginal summary: great \nPredicted summary:  great\n\n\nReview: toy great dog loves feed dog food eat fast beginning took sometime learn get treats eats whole cup minutes \nOriginal summary: great for your dog \n"
     ]
    },
    {
     "name": "stdout",
     "output_type": "stream",
     "text": [
      "Predicted summary:  great tea\n\n\nReview: much flavor remembered previous purchase tea local grocery store could get locally anymore wondering product discontinued old merchandise \nOriginal summary: product tasted stale to \n"
     ]
    },
    {
     "name": "stdout",
     "output_type": "stream",
     "text": [
      "Predicted summary:  great product\n\n\nReview: thought product superior every way packaging color taste etc buy soon needed \nOriginal summary: love \n"
     ]
    },
    {
     "name": "stdout",
     "output_type": "stream",
     "text": [
      "Predicted summary:  great product\n\n\nReview: looking tastes good favorite consistency bit runny chunks garlic quite tasty \nOriginal summary: bit pricey but yummy \n"
     ]
    },
    {
     "name": "stdout",
     "output_type": "stream",
     "text": [
      "Predicted summary:  great\n\n\nReview: love chips healthier regular ones taste great lots bbq flavor sprinkling like chips \nOriginal summary: bbq pop chips are amazing \n"
     ]
    },
    {
     "name": "stdout",
     "output_type": "stream",
     "text": [
      "Predicted summary:  great chips\n\n\nReview: cat loved chicken pot pie skeptical even ate carrots amazing \nOriginal summary: my cat gave these stars \n"
     ]
    },
    {
     "name": "stdout",
     "output_type": "stream",
     "text": [
      "Predicted summary:  great\n\n\nReview: coffee aromatic flavorful product arrived quickly would recommend coffee anyone milder less robust coffee still flavorful enjoyable \nOriginal summary: delicious \n"
     ]
    },
    {
     "name": "stdout",
     "output_type": "stream",
     "text": [
      "Predicted summary:  great coffee\n\n\nReview: tried many simply best con addictive fatty \nOriginal summary: the best \n"
     ]
    },
    {
     "name": "stdout",
     "output_type": "stream",
     "text": [
      "Predicted summary:  great\n\n\nReview: drinking stuff least years europe popular sweet like orange sodas tastes amazing \nOriginal summary: the best \nPredicted summary:"
     ]
    },
    {
     "name": "stdout",
     "output_type": "stream",
     "text": [
      "  great\n\n\nReview: really choice comes soy dairy free baking uses palm kernel oil consistancy regular seems bake fine need soy dairy free highly recommend \nOriginal summary: the only soy and free \nPredicted summary:"
     ]
    },
    {
     "name": "stdout",
     "output_type": "stream",
     "text": [
      "  great\n\n\nReview: cookies great slight tapioca flour taste sensitive chocolate chip ones even better thank dr lucy low calorie gluten free treat \nOriginal summary: great crunchy sweet treat \nPredicted summary:"
     ]
    },
    {
     "name": "stdout",
     "output_type": "stream",
     "text": [
      "  great taste\n\n\nReview: bought recommendation someone also siberian husky say husky must fairly old old siberian husky active heavy chewer figured bottom jug one day chew pieces \nOriginal summary: not for dogs \nPredicted summary:"
     ]
    },
    {
     "name": "stdout",
     "output_type": "stream",
     "text": [
      "  great\n\n\nReview: bought realized much getting knew grocery store fault really waited seeds great way many freezer \nOriginal summary: the product is fine \nPredicted summary:  great product\n\n\nReview: buy vanilla soy creamer use flavor better buying flavored creamers full fragrance nice easy long lasting clever way great coffee home \nOriginal summary: great flavor for coffee \n"
     ]
    },
    {
     "name": "stdout",
     "output_type": "stream",
     "text": [
      "Predicted summary:  great\n\n\nReview: awesome problem would single serving husband gluten free diet far best chips found varieties popchips bland tasty keep coming back delicious barbeque \nOriginal summary: popchips \nPredicted summary:  great"
     ]
    },
    {
     "name": "stdout",
     "output_type": "stream",
     "text": [
      "\n\n\nReview: coffee ok mild almost weak would buy price right \nOriginal summary: just ok coffee \nPredicted summary:  great\n\n\nReview: tried ordering amazon first time worried getting cans little top family three consumed within two weeks great flavor great snack order \nOriginal summary: great taste \nPredicted summary:  great\n\n\nReview: loved popcorn come shipping way top would settle next time something buy spend times shipping \nOriginal summary: great popcorn terrible price for shipping \n"
     ]
    },
    {
     "name": "stdout",
     "output_type": "stream",
     "text": [
      "Predicted summary:  great\n\n\nReview: race raw spanish peanuts best source great protein fat peanuts best bulk quality ever seen \nOriginal summary: terrific quality \n"
     ]
    },
    {
     "name": "stdout",
     "output_type": "stream",
     "text": [
      "Predicted summary:  great\n\n\nReview: use one packet per jar make yogurt almost daily happy raised price otherwise product appears work advertised bit funny taste suspect strong content \nOriginal summary: use \n"
     ]
    },
    {
     "name": "stdout",
     "output_type": "stream",
     "text": [
      "Predicted summary:  great product\n\n\nReview: aware first ingredient list salt find product peppery hot spicy disappointment \nOriginal summary: first ingredient on the is salt \n"
     ]
    },
    {
     "name": "stdout",
     "output_type": "stream",
     "text": [
      "Predicted summary:  great product\n\n\nReview: happy found wonderful decaf tea guests tea nice full flavored smooth finish usually use cup twice setting tea remains true delicious price best found anywhere \nOriginal summary: mm good tea \n"
     ]
    },
    {
     "name": "stdout",
     "output_type": "stream",
     "text": [
      "Predicted summary:  great tea\n\n\nReview: good green mountain reserve sumatra better half stars sort tastes little stale \nOriginal summary: good but not perfect \n"
     ]
    },
    {
     "name": "stdout",
     "output_type": "stream",
     "text": [
      "Predicted summary:  great\n\n\nReview: fresh great way get little chocolate life without calories taste like chocolate pudding \nOriginal summary: omg best chocolate jelly \n"
     ]
    },
    {
     "name": "stdout",
     "output_type": "stream",
     "text": [
      "Predicted summary:  great\n\n\nReview: hard find tomato powder reasonably priced little tomato paste sauce requires cook somehow store extra portion \nOriginal summary: at last priced powder \n"
     ]
    },
    {
     "name": "stdout",
     "output_type": "stream",
     "text": [
      "Predicted summary:  great product\n\n\nReview: wish expensive absolutely worth price care feeding dog quality grain free food \nOriginal summary: wonderful product \n"
     ]
    },
    {
     "name": "stdout",
     "output_type": "stream",
     "text": [
      "Predicted summary:  great\n\n\nReview: best eat day go quickly going tell many ive bought since jan year great love \nOriginal summary: addicted love them get enough \nPredicted summary:  great\n\n\n"
     ]
    },
    {
     "name": "stdout",
     "output_type": "stream",
     "text": [
      "Review: gave daughter uses recipes wanted use smoothies tasted bad \nOriginal summary: tasted \nPredicted summary:  great product\n\n\nReview: love taste found many cups explode glue side cup becomes cup hard clean think buy brand \nOriginal summary: poor quality \nPredicted summary: "
     ]
    },
    {
     "name": "stdout",
     "output_type": "stream",
     "text": [
      " great\n\n\nReview: cats favorite cat food eat lot different cat foods loves one \nOriginal summary: cat food \nPredicted summary:  great\n\n\nReview: product wonderful however package contents bent arrived suspect lack lack air packets packaging one almost bent point puncture \nOriginal summary: great product poor shipping package \nPredicted summary: "
     ]
    },
    {
     "name": "stdout",
     "output_type": "stream",
     "text": [
      " great product\n\n\nReview: thought would love product found rather tasteless always use vanilla chai love use teabags get decent flavor caramel \nOriginal summary: disappointed \nPredicted summary:  great product\n\n\nReview: pill pockets great dogs love soft perfectly hides pill medication give \nOriginal summary: great pill pockets \nPredicted summary:  great product\n\n\nReview: sooooo good addictive know carrot chips fries carrot chips think potato chips vs corn chips trying use either love hate entire family \nOriginal summary: love these \n"
     ]
    },
    {
     "name": "stdout",
     "output_type": "stream",
     "text": [
      "Predicted summary:  great chips\n\n\nReview: trouble finding easter best jelly beans ever packing slightly different jelly beans \nOriginal summary: best jelly beans ever \n"
     ]
    },
    {
     "name": "stdout",
     "output_type": "stream",
     "text": [
      "Predicted summary:  great product\n\n\nReview: children eat healthy products love graham crackers glad available amazon \nOriginal summary: excellent product \n"
     ]
    },
    {
     "name": "stdout",
     "output_type": "stream",
     "text": [
      "Predicted summary:  great\n\n\nReview: first purchased product months ago co worker mentioned decided try surprise delicious sold continue buy like hot fresh pork rinds spicy ones product summer \nOriginal summary: best pork rinds ever \n"
     ]
    },
    {
     "name": "stdout",
     "output_type": "stream",
     "text": [
      "Predicted summary:  great product\n\n\nReview: dog loves treat toys one really know else say except completely might work big dogs like rip things apart \nOriginal summary: it \n"
     ]
    },
    {
     "name": "stdout",
     "output_type": "stream",
     "text": [
      "Predicted summary:  great tea\n\n\nReview: looking treat whose protein low made usa organic size treats us quarter \nOriginal summary: perfect \n"
     ]
    },
    {
     "name": "stdout",
     "output_type": "stream",
     "text": [
      "Predicted summary:  great\n\n\nReview: wife loves oatmeal cannot always find get good price hope keep carrying \nOriginal summary: oats oatmeal \nPredicted summary:  great\n\n\nReview: like chips lot whole pack get chips fish \nOriginal summary: "
     ]
    },
    {
     "name": "stdout",
     "output_type": "stream",
     "text": [
      "yum yum love me pop chips \nPredicted summary:  great chips\n\n\nReview: product delicious mix lot coffee shops use disappointed \nOriginal summary: delicious \n"
     ]
    },
    {
     "name": "stdout",
     "output_type": "stream",
     "text": [
      "Predicted summary:  great product\n\n\nReview: wafer rolls delivered large amount breakage taste good would nice something wafer rather crumbs however price right \nOriginal summary: all natural \n"
     ]
    },
    {
     "name": "stdout",
     "output_type": "stream",
     "text": [
      "Predicted summary:  great product\n\n\nReview: skeptical quality hot chocolate cup grove square amazing good making scratch without fuss milk chocolate mild dark enough bite make interesting peppermint perfect dinner \nOriginal summary: excellent hot \nPredicted summary:  great popcorn\n\n\nReview: found peanuts years ago lived virginia although moved united states still order regular basis use best nuts cook right crunch great flavor expect virginia style peanuts \nOriginal summary: great tasting nuts \n"
     ]
    },
    {
     "name": "stdout",
     "output_type": "stream",
     "text": [
      "Predicted summary:  great product\n\n\nReview: opinion far best tasting cup flavored drink tried distinct coffee flavor strong light \nOriginal summary: the best kcup flavor out there \nPredicted summary:"
     ]
    },
    {
     "name": "stdout",
     "output_type": "stream",
     "text": [
      "  great\n\n\nReview: changing kitty food dry wet tried many different flavors favorite mixed dry food first three days gave canned salmon bowl clean \nOriginal summary: winner for my picky cat \n"
     ]
    },
    {
     "name": "stdout",
     "output_type": "stream",
     "text": [
      "Predicted summary:  great\n\n\nReview: way like bold full flavored drink black love taste favorite around house \nOriginal summary: this is bold \nPredicted summary:"
     ]
    },
    {
     "name": "stdout",
     "output_type": "stream",
     "text": [
      "  great\n\n\nReview: add chia seeds morning shake breakfast love taste great almost like tiny better particular bag last long time considering consume daily also cheaper stores def recommend product \nOriginal summary: chia seeds \nPredicted summary:  great\n\n\nReview: makes great nut butters chocolate version like nutella less sugar crap delicious super nutritious \nOriginal summary: quality nut \n"
     ]
    },
    {
     "name": "stdout",
     "output_type": "stream",
     "text": [
      "Predicted summary:  great\n\n\nReview: love brewing chamomile tea scratch one best things help fall day work great stuff great price \nOriginal summary: great value and wonderful tea \n"
     ]
    },
    {
     "name": "stdout",
     "output_type": "stream",
     "text": [
      "Predicted summary:  great tea\n\n\nReview: naturals chia seed become favorite easy set next delivery date enjoy healthy seeds sad amazon removed auto ship program continue buy long available health benefits \nOriginal summary: this can no be \n"
     ]
    },
    {
     "name": "stdout",
     "output_type": "stream",
     "text": [
      "Predicted summary:  great product\n\n\nReview: dog food ran two weeks ago local source bought called equivalent see suffer itching belly aches ordered amazon yesterday free shipping sent hours later recieved today \nOriginal summary: newman own organic dog food \n"
     ]
    },
    {
     "name": "stdout",
     "output_type": "stream",
     "text": [
      "Predicted summary:  great tea\n\n\nReview: use twins love never problems wish cheaper \nOriginal summary: worked great for us \n"
     ]
    },
    {
     "name": "stdout",
     "output_type": "stream",
     "text": [
      "Predicted summary:  great\n\n\nReview: ordered year ago repeatedly ordered since everyone shared loved much also gotten right amazon ordered also mix coffee feeling particularly top cream delicious \nOriginal summary: totally \n"
     ]
    },
    {
     "name": "stdout",
     "output_type": "stream",
     "text": [
      "Predicted summary:  great product\n\n\nReview: paul makes great seafood seasoning pork seasoning found vegetable seasoning spicy \nOriginal summary: seasoning very spicy \n"
     ]
    },
    {
     "name": "stdout",
     "output_type": "stream",
     "text": [
      "Predicted summary:  great\n\n\nReview: deployed love treat reminds home popular home times \nOriginal summary: treat from home \n"
     ]
    },
    {
     "name": "stdout",
     "output_type": "stream",
     "text": [
      "Predicted summary:  great\n\n\nReview: really good like make little extra milk thin cannot even tell difference regular pancakes worth price family \nOriginal summary: good gluten free pancakes \n"
     ]
    },
    {
     "name": "stdout",
     "output_type": "stream",
     "text": [
      "Predicted summary:  great\n\n\nReview: good side dish easy make easy eat others said needs little spice delicious \nOriginal summary: very good \n"
     ]
    },
    {
     "name": "stdout",
     "output_type": "stream",
     "text": [
      "Predicted summary:  great\n\n\nReview: pour oil cooked pasta fry eggs use everything calls butter superb olive oil \nOriginal summary: perfect for cooking \n"
     ]
    },
    {
     "name": "stdout",
     "output_type": "stream",
     "text": [
      "Predicted summary:  great\n\n\nReview: exactly advertised plenty space set keurig brewer top still fit counter top cups nicely drawer easy access see cups may want \nOriginal summary: cup \n"
     ]
    },
    {
     "name": "stdout",
     "output_type": "stream",
     "text": [
      "Predicted summary:  great product\n\n\nReview: tea usa know mandarin silk loose leaf oolong tea like name suggests silk silk tongue tea warm relaxing taste makes feel wonderful well done tea \nOriginal summary: awesome \n"
     ]
    },
    {
     "name": "stdout",
     "output_type": "stream",
     "text": [
      "Predicted summary:  great tea\n\n\nReview: bought yesterday local store expiration really smelled bad supposed open every single smell test buying \nOriginal summary: bad smell \n"
     ]
    },
    {
     "name": "stdout",
     "output_type": "stream",
     "text": [
      "Predicted summary:  great product\n\n\nReview: cookies truly favorite beyond make cook whole wheat version particularly superb greater flavor original lovely slightly crumbly grainy texture wonderful bon \nOriginal summary: with perfect packaging \n"
     ]
    },
    {
     "name": "stdout",
     "output_type": "stream",
     "text": [
      "Predicted summary:  great taste\n\n\nReview: really enjoy low calorie chips good flavor good crunch crisp wondering ordering case chips one could order favorites whole flavors say flavors desired great product stop manufacturing \nOriginal summary: yummy \n"
     ]
    },
    {
     "name": "stdout",
     "output_type": "stream",
     "text": [
      "Predicted summary:  great chips\n\n\nReview: understand dog food full reviews give dog food stars beats science diet purina one use use diamond natural less expensive \nOriginal summary: quality at good price \n"
     ]
    },
    {
     "name": "stdout",
     "output_type": "stream",
     "text": [
      "Predicted summary:  great tea\n\n\nReview: first tea restaurant immediately tasted natural sweetness tea bitter tea sweet like perfect cup tea \nOriginal summary: no needed \n"
     ]
    },
    {
     "name": "stdout",
     "output_type": "stream",
     "text": [
      "Predicted summary:  great tea\n\n\nReview: product excellent tried one night quick easy dinner whole family loved including fussy year old daughter well worth trying \nOriginal summary: excellent flavor \n"
     ]
    },
    {
     "name": "stdout",
     "output_type": "stream",
     "text": [
      "Predicted summary:  great product\n\n\nReview: ordered many kind bars amazon disappointed time bars taste good hard rocks taking chance trip biting could find place let amazon know posted maybe problem \nOriginal summary: good but not well \n"
     ]
    },
    {
     "name": "stdout",
     "output_type": "stream",
     "text": [
      "Predicted summary:  great product\n\n\nReview: closest thing movie popcorn every kernel pops great flavor recommend popcorn anyone likes theater popcorn \nOriginal summary: best popcorn \n"
     ]
    },
    {
     "name": "stdout",
     "output_type": "stream",
     "text": [
      "Predicted summary:  great\n\n\nReview: price excellent tea arrived quickly buying tea future \nOriginal summary: tea \n"
     ]
    },
    {
     "name": "stdout",
     "output_type": "stream",
     "text": [
      "Predicted summary:  great tea\n\n\nReview: tastes great got fast ordered air popper sister loved much \nOriginal summary: popcorn \n"
     ]
    },
    {
     "name": "stdout",
     "output_type": "stream",
     "text": [
      "Predicted summary:  great\n\n\nReview: coffee sample selection ordered keurig brewer far favorite ordered coffee several times amazon dark roast strong \nOriginal summary: wolfgang puck coffee for keurig \n"
     ]
    },
    {
     "name": "stdout",
     "output_type": "stream",
     "text": [
      "Predicted summary:  great coffee\n\n\nReview: tried mixes pancakes awful one really good buy stock co people buying product sure \nOriginal summary: really good mix \n"
     ]
    },
    {
     "name": "stdout",
     "output_type": "stream",
     "text": [
      "Predicted summary:  great\n\n\nReview: reading earlier reviews bad packaging bit hesitant ordering favourite biscuits thought give try product got delivered simply superb quality packaging amazon \nOriginal summary: simply superb packaging shipping \n"
     ]
    },
    {
     "name": "stdout",
     "output_type": "stream",
     "text": [
      "Predicted summary:  great product\n\n\nReview: excellent product always ran olive juice ran olives making dirty martinis terrific source great tasting olive juice dirty martinis never better \nOriginal summary: dirty olive juice \n"
     ]
    },
    {
     "name": "stdout",
     "output_type": "stream",
     "text": [
      "Predicted summary:  great product\n\n\nReview: tried many corn soy ingredients list automatic soy corn modified unless says organic non gmo gm eat gm products feed pets \nOriginal summary: ingredients no thank you \n"
     ]
    },
    {
     "name": "stdout",
     "output_type": "stream",
     "text": [
      "Predicted summary:  great product\n\n\nReview: kind bitter recommend buying first store buying case almost strips great portable vegetarian protein snack \nOriginal summary: high protein and vegetarian but bit bitter \n"
     ]
    },
    {
     "name": "stdout",
     "output_type": "stream",
     "text": [
      "Predicted summary:  great\n\n\nReview: made according package directions added cup mini chocolate chips awesome took longer cook box says maybe chocolate chips either way great definitely make \nOriginal summary: yummy \n"
     ]
    },
    {
     "name": "stdout",
     "output_type": "stream",
     "text": [
      "Predicted summary:  great\n\n\nReview: great snacking healthy bags filled smaller snacks reordering regular basis \nOriginal summary: absolutely yummy \n"
     ]
    },
    {
     "name": "stdout",
     "output_type": "stream",
     "text": [
      "Predicted summary:  great\n\n\nReview: delicious flavorful tea must cinnamon lovers also pleasant sweetness even us use sweeteners enjoy wonderful hot drink especially like cold drink \nOriginal summary: if you like cinnamon \n"
     ]
    },
    {
     "name": "stdout",
     "output_type": "stream",
     "text": [
      "Predicted summary:  great tea\n\n\nReview: fool italian husband fool anyone think consistency close wheat pasta cannot wait try laws \nOriginal summary: this rice pasta is \n"
     ]
    },
    {
     "name": "stdout",
     "output_type": "stream",
     "text": [
      "Predicted summary:  great product\n\n\nReview: dog loves treats yorkie right size let friend give dog loved also \nOriginal summary: best buddy bones \n"
     ]
    },
    {
     "name": "stdout",
     "output_type": "stream",
     "text": [
      "Predicted summary:  great tea\n\n\nReview: really enjoy coffee recommend store airtight container opening maintain full flavor enjoy evening coffee \nOriginal summary: great raspberry flavor \n"
     ]
    },
    {
     "name": "stdout",
     "output_type": "stream",
     "text": [
      "Predicted summary:  great\n\n\nReview: keeps dog entertained get sometimes never one playing toys staying one thing period time seem like though \nOriginal summary: busy buddy \n"
     ]
    },
    {
     "name": "stdout",
     "output_type": "stream",
     "text": [
      "Predicted summary:  great tea\n\n\nReview: water based sardines without salt bad product far superior types normally purchase stores \nOriginal summary: water low sodium that actually taste good \n"
     ]
    },
    {
     "name": "stdout",
     "output_type": "stream",
     "text": [
      "Predicted summary:  great product\n\n\nReview: great tasting coffee good first thing morning anytime smooth green mountain puts great tasting coffee flavors blends \nOriginal summary: very good \n"
     ]
    },
    {
     "name": "stdout",
     "output_type": "stream",
     "text": [
      "Predicted summary:  great coffee\n\n\nReview: search treats made came made \nOriginal summary: made in china \n"
     ]
    },
    {
     "name": "stdout",
     "output_type": "stream",
     "text": [
      "Predicted summary:  great\n\n\nReview: wasnt sure would even like keurig coffee maker like strong coffee wonderful us like mild brews plus little cups convienient recommend product \nOriginal summary: glad this great price \n"
     ]
    },
    {
     "name": "stdout",
     "output_type": "stream",
     "text": [
      "Predicted summary:  great coffee\n\n\nReview: never enough juice left jar olives therefore end olives eat buying juice makes alot sense \nOriginal summary: my husband loves dirty \n"
     ]
    },
    {
     "name": "stdout",
     "output_type": "stream",
     "text": [
      "Predicted summary:  great product\n\n\nReview: combine libby organic black beans libby organic green beans mixed bob red mill organic brown rice least two three times per week perfect meal every time \nOriginal summary: goes great with black beans and rice \n"
     ]
    },
    {
     "name": "stdout",
     "output_type": "stream",
     "text": [
      "Predicted summary:  great product\n\n\nReview: popcorn microwave cheese popcorn tastes somehow must cheese packet tastes yummy \nOriginal summary: yum \n"
     ]
    },
    {
     "name": "stdout",
     "output_type": "stream",
     "text": [
      "Predicted summary:  great\n\n\nReview: get good one bone ordered thinking getting cute basket bones value let picture item worth merrick smoked jerky bone \nOriginal summary: dog treats \n"
     ]
    },
    {
     "name": "stdout",
     "output_type": "stream",
     "text": [
      "Predicted summary:  great product\n\n\n"
     ]
    }
   ],
   "source": [
    "for i in range(0,100):\n",
    "    print(\"Review:\",seq2text(x_tr[i]))\n",
    "    print(\"Original summary:\",seq2summary(y_tr[i]))\n",
    "    print(\"Predicted summary:\",decode_sequence(x_tr[i].reshape(1,max_text_len)))\n",
    "    print(\"\\n\")"
   ]
  },
  {
   "cell_type": "code",
   "execution_count": null,
   "metadata": {},
   "outputs": [],
   "source": []
  }
 ],
 "metadata": {
  "kernelspec": {
   "display_name": "Python 2",
   "language": "python",
   "name": "python2"
  },
  "language_info": {
   "codemirror_mode": {
    "name": "ipython",
    "version": 2
   },
   "file_extension": ".py",
   "mimetype": "text/x-python",
   "name": "python",
   "nbconvert_exporter": "python",
   "pygments_lexer": "ipython2",
   "version": "2.7.6"
  }
 },
 "nbformat": 4,
 "nbformat_minor": 0
}
